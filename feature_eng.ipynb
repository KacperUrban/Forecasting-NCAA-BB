{
 "cells": [
  {
   "cell_type": "markdown",
   "metadata": {},
   "source": [
    "## What was discovered?\n",
    "* is_tourney (remark when game was in regular or tourney phase) variable doesnt matter according to feature importance and also we will predict only tourney phase games.\n",
    "* to addres the problem of data leakage I removed scores from games (before game we dont know which teams shoot how many points) and also for every team i retrieve seed values. But if it is regular season i only have information about previous ones. So for regular season I retrieve seed from previous season and for tourney phase i retrieve information from current season.\n",
    "* team coaches can have also some important informations (some coaches are better than other). But during the season team coache can be changed. So apart classic merge I have to check also if in particular row daynum is smaller than last day and bigger than first day of coach term.\n",
    "* DayNum feature can carry some information. But in this contest we do not have information about matches (we have to predict every possible matchup). Feature importance indicate it is important feature.\n",
    "\n",
    "## Which features was added?\n",
    "* seed value for every team\n",
    "* difference between seed of one team and another\n",
    "* team coach information\n",
    "* duration of teams presence in Division I\n"
   ]
  },
  {
   "cell_type": "markdown",
   "metadata": {},
   "source": [
    "## Load libraries"
   ]
  },
  {
   "cell_type": "code",
   "execution_count": 2,
   "metadata": {},
   "outputs": [],
   "source": [
    "import pandas as pd\n",
    "import numpy as np\n",
    "from sklearn.metrics import brier_score_loss\n",
    "from sklearn.ensemble import RandomForestClassifier\n",
    "from sklearn.model_selection import train_test_split\n",
    "from custom_utils import transform_data, enrich_data, feature_importance\n",
    "from IPython.display import display\n",
    "from sklearn.decomposition import PCA\n",
    "from collections import defaultdict"
   ]
  },
  {
   "cell_type": "markdown",
   "metadata": {},
   "source": [
    "## Load and prepare data"
   ]
  },
  {
   "cell_type": "code",
   "execution_count": 4,
   "metadata": {},
   "outputs": [],
   "source": [
    "wregularseason = pd.read_csv(\"data/WRegularSeasonCompactResults.csv\")\n",
    "wtourneyseason = pd.read_csv(\"data/WNCAATourneyCompactResults.csv\")\n",
    "\n",
    "mregularseason = pd.read_csv(\"data/MRegularSeasonCompactResults.csv\")\n",
    "mtourneyseason = pd.read_csv(\"data/MNCAATourneyCompactResults.csv\")\n",
    "\n",
    "mseason = pd.read_csv(\"data/MSeasons.csv\")\n",
    "wseason = pd.read_csv(\"data/WSeasons.csv\")\n",
    "\n",
    "mrankings = pd.read_csv(\"data/MMasseyOrdinals.csv\")\n",
    "\n",
    "wprep = pd.concat([transform_data(wregularseason), transform_data(wtourneyseason)], axis=0).reset_index(drop=True)\n",
    "mprep = pd.concat([transform_data(mregularseason), transform_data(mtourneyseason)], axis=0).reset_index(drop=True)"
   ]
  },
  {
   "cell_type": "code",
   "execution_count": 5,
   "metadata": {},
   "outputs": [
    {
     "name": "stderr",
     "output_type": "stream",
     "text": [
      "c:\\Users\\urbii\\Desktop\\Projekty\\Forecasting-NCAA-BB\\venv\\Lib\\site-packages\\sklearn\\preprocessing\\_label.py:110: DataConversionWarning: A column-vector y was passed when a 1d array was expected. Please change the shape of y to (n_samples, ), for example using ravel().\n",
      "  y = column_or_1d(y, warn=True)\n",
      "c:\\Users\\urbii\\Desktop\\Projekty\\Forecasting-NCAA-BB\\venv\\Lib\\site-packages\\sklearn\\preprocessing\\_label.py:129: DataConversionWarning: A column-vector y was passed when a 1d array was expected. Please change the shape of y to (n_samples, ), for example using ravel().\n",
      "  y = column_or_1d(y, dtype=self.classes_.dtype, warn=True)\n"
     ]
    },
    {
     "data": {
      "text/html": [
       "<div>\n",
       "<style scoped>\n",
       "    .dataframe tbody tr th:only-of-type {\n",
       "        vertical-align: middle;\n",
       "    }\n",
       "\n",
       "    .dataframe tbody tr th {\n",
       "        vertical-align: top;\n",
       "    }\n",
       "\n",
       "    .dataframe thead th {\n",
       "        text-align: right;\n",
       "    }\n",
       "</style>\n",
       "<table border=\"1\" class=\"dataframe\">\n",
       "  <thead>\n",
       "    <tr style=\"text-align: right;\">\n",
       "      <th></th>\n",
       "      <th>Season</th>\n",
       "      <th>DayNum</th>\n",
       "      <th>WTeamID</th>\n",
       "      <th>LTeamID</th>\n",
       "      <th>Result</th>\n",
       "      <th>is_tournament</th>\n",
       "      <th>SeedW</th>\n",
       "      <th>SeedL</th>\n",
       "      <th>SeedDiff</th>\n",
       "    </tr>\n",
       "  </thead>\n",
       "  <tbody>\n",
       "    <tr>\n",
       "      <th>21389</th>\n",
       "      <td>2003</td>\n",
       "      <td>6</td>\n",
       "      <td>3256</td>\n",
       "      <td>3403</td>\n",
       "      <td>1</td>\n",
       "      <td>0</td>\n",
       "      <td>5</td>\n",
       "      <td>4</td>\n",
       "      <td>1</td>\n",
       "    </tr>\n",
       "    <tr>\n",
       "      <th>21390</th>\n",
       "      <td>2003</td>\n",
       "      <td>6</td>\n",
       "      <td>3397</td>\n",
       "      <td>3328</td>\n",
       "      <td>1</td>\n",
       "      <td>0</td>\n",
       "      <td>2</td>\n",
       "      <td>1</td>\n",
       "      <td>1</td>\n",
       "    </tr>\n",
       "    <tr>\n",
       "      <th>21391</th>\n",
       "      <td>2003</td>\n",
       "      <td>11</td>\n",
       "      <td>3161</td>\n",
       "      <td>3362</td>\n",
       "      <td>1</td>\n",
       "      <td>0</td>\n",
       "      <td>7</td>\n",
       "      <td>16</td>\n",
       "      <td>-9</td>\n",
       "    </tr>\n",
       "    <tr>\n",
       "      <th>21392</th>\n",
       "      <td>2003</td>\n",
       "      <td>11</td>\n",
       "      <td>3210</td>\n",
       "      <td>3150</td>\n",
       "      <td>1</td>\n",
       "      <td>0</td>\n",
       "      <td>16</td>\n",
       "      <td>16</td>\n",
       "      <td>0</td>\n",
       "    </tr>\n",
       "    <tr>\n",
       "      <th>21393</th>\n",
       "      <td>2003</td>\n",
       "      <td>11</td>\n",
       "      <td>3243</td>\n",
       "      <td>3123</td>\n",
       "      <td>1</td>\n",
       "      <td>0</td>\n",
       "      <td>3</td>\n",
       "      <td>16</td>\n",
       "      <td>-13</td>\n",
       "    </tr>\n",
       "  </tbody>\n",
       "</table>\n",
       "</div>"
      ],
      "text/plain": [
       "       Season  DayNum  WTeamID  LTeamID  Result  is_tournament  SeedW  SeedL  \\\n",
       "21389    2003       6     3256     3403       1              0      5      4   \n",
       "21390    2003       6     3397     3328       1              0      2      1   \n",
       "21391    2003      11     3161     3362       1              0      7     16   \n",
       "21392    2003      11     3210     3150       1              0     16     16   \n",
       "21393    2003      11     3243     3123       1              0      3     16   \n",
       "\n",
       "       SeedDiff  \n",
       "21389         1  \n",
       "21390         1  \n",
       "21391        -9  \n",
       "21392         0  \n",
       "21393       -13  "
      ]
     },
     "metadata": {},
     "output_type": "display_data"
    },
    {
     "data": {
      "text/html": [
       "<div>\n",
       "<style scoped>\n",
       "    .dataframe tbody tr th:only-of-type {\n",
       "        vertical-align: middle;\n",
       "    }\n",
       "\n",
       "    .dataframe tbody tr th {\n",
       "        vertical-align: top;\n",
       "    }\n",
       "\n",
       "    .dataframe thead th {\n",
       "        text-align: right;\n",
       "    }\n",
       "</style>\n",
       "<table border=\"1\" class=\"dataframe\">\n",
       "  <thead>\n",
       "    <tr style=\"text-align: right;\">\n",
       "      <th></th>\n",
       "      <th>Season</th>\n",
       "      <th>DayNum</th>\n",
       "      <th>WTeamID</th>\n",
       "      <th>LTeamID</th>\n",
       "      <th>Result</th>\n",
       "      <th>is_tournament</th>\n",
       "      <th>SeedW</th>\n",
       "      <th>SeedL</th>\n",
       "      <th>WCoachName</th>\n",
       "      <th>LCoachName</th>\n",
       "      <th>Duration</th>\n",
       "      <th>SeedDiff</th>\n",
       "    </tr>\n",
       "  </thead>\n",
       "  <tbody>\n",
       "    <tr>\n",
       "      <th>74048</th>\n",
       "      <td>2003</td>\n",
       "      <td>10</td>\n",
       "      <td>1104</td>\n",
       "      <td>1328</td>\n",
       "      <td>1</td>\n",
       "      <td>0</td>\n",
       "      <td>2</td>\n",
       "      <td>2</td>\n",
       "      <td>1000</td>\n",
       "      <td>872</td>\n",
       "      <td>19.0</td>\n",
       "      <td>0</td>\n",
       "    </tr>\n",
       "    <tr>\n",
       "      <th>74049</th>\n",
       "      <td>2003</td>\n",
       "      <td>10</td>\n",
       "      <td>1272</td>\n",
       "      <td>1393</td>\n",
       "      <td>1</td>\n",
       "      <td>0</td>\n",
       "      <td>16</td>\n",
       "      <td>16</td>\n",
       "      <td>799</td>\n",
       "      <td>712</td>\n",
       "      <td>19.0</td>\n",
       "      <td>0</td>\n",
       "    </tr>\n",
       "    <tr>\n",
       "      <th>74050</th>\n",
       "      <td>2003</td>\n",
       "      <td>11</td>\n",
       "      <td>1266</td>\n",
       "      <td>1437</td>\n",
       "      <td>1</td>\n",
       "      <td>0</td>\n",
       "      <td>5</td>\n",
       "      <td>16</td>\n",
       "      <td>1523</td>\n",
       "      <td>655</td>\n",
       "      <td>19.0</td>\n",
       "      <td>-11</td>\n",
       "    </tr>\n",
       "    <tr>\n",
       "      <th>74051</th>\n",
       "      <td>2003</td>\n",
       "      <td>11</td>\n",
       "      <td>1296</td>\n",
       "      <td>1457</td>\n",
       "      <td>1</td>\n",
       "      <td>0</td>\n",
       "      <td>16</td>\n",
       "      <td>16</td>\n",
       "      <td>1301</td>\n",
       "      <td>577</td>\n",
       "      <td>19.0</td>\n",
       "      <td>0</td>\n",
       "    </tr>\n",
       "    <tr>\n",
       "      <th>74052</th>\n",
       "      <td>2003</td>\n",
       "      <td>11</td>\n",
       "      <td>1400</td>\n",
       "      <td>1208</td>\n",
       "      <td>1</td>\n",
       "      <td>0</td>\n",
       "      <td>6</td>\n",
       "      <td>3</td>\n",
       "      <td>1275</td>\n",
       "      <td>734</td>\n",
       "      <td>19.0</td>\n",
       "      <td>3</td>\n",
       "    </tr>\n",
       "  </tbody>\n",
       "</table>\n",
       "</div>"
      ],
      "text/plain": [
       "       Season  DayNum  WTeamID  LTeamID  Result  is_tournament  SeedW  SeedL  \\\n",
       "74048    2003      10     1104     1328       1              0      2      2   \n",
       "74049    2003      10     1272     1393       1              0     16     16   \n",
       "74050    2003      11     1266     1437       1              0      5     16   \n",
       "74051    2003      11     1296     1457       1              0     16     16   \n",
       "74052    2003      11     1400     1208       1              0      6      3   \n",
       "\n",
       "       WCoachName  LCoachName  Duration  SeedDiff  \n",
       "74048        1000         872      19.0         0  \n",
       "74049         799         712      19.0         0  \n",
       "74050        1523         655      19.0       -11  \n",
       "74051        1301         577      19.0         0  \n",
       "74052        1275         734      19.0         3  "
      ]
     },
     "execution_count": 5,
     "metadata": {},
     "output_type": "execute_result"
    }
   ],
   "source": [
    "mprep_enh = enrich_data(mprep, \"M\")\n",
    "wprep_enh = enrich_data(wprep, \"W\")\n",
    "wprep_enh = wprep_enh.loc[wprep_enh[\"Season\"] >= 2003]\n",
    "mprep_enh = mprep_enh.loc[mprep_enh[\"Season\"] >= 2003]\n",
    "display(wprep_enh.head())\n",
    "mprep_enh.head()"
   ]
  },
  {
   "cell_type": "code",
   "execution_count": null,
   "metadata": {},
   "outputs": [],
   "source": [
    "dict_of_rank = defaultdict(list)\n",
    "for index, row in mprep_enh.iterrows():\n",
    "    try:\n",
    "        daynums = mrankings[(mrankings[\"Season\"] == row[\"Season\"]) & (mrankings[\"TeamID\"] == row[\"WTeamID\"])].RankingDayNum.unique()\n",
    "        closestdaynum = daynums[daynums <= row[\"DayNum\"]][-1]\n",
    "        dict_of_rank[\"RankingW\"].append(np.median(mrankings[(mrankings[\"Season\"] == row[\"Season\"]) & (mrankings[\"TeamID\"] == row[\"WTeamID\"]) & (mrankings[\"RankingDayNum\"] == closestdaynum)].OrdinalRank).item())\n",
    "    except:\n",
    "        dict_of_rank[\"RankingW\"].append(0)\n",
    "\n",
    "    try:\n",
    "        daynums = mrankings[(mrankings[\"Season\"] == row[\"Season\"]) & (mrankings[\"TeamID\"] == row[\"LTeamID\"])].RankingDayNum.unique()\n",
    "        closestdaynum = daynums[daynums <= row[\"DayNum\"]][-1]\n",
    "        dict_of_rank[\"RankingL\"].append(np.median(mrankings[(mrankings[\"Season\"] == row[\"Season\"]) & (mrankings[\"TeamID\"] == row[\"LTeamID\"]) & (mrankings[\"RankingDayNum\"] == closestdaynum)].OrdinalRank).item())\n",
    "    except:\n",
    "        dict_of_rank[\"RankingL\"].append(0)"
   ]
  },
  {
   "cell_type": "markdown",
   "metadata": {},
   "source": [
    "## Test models on different features"
   ]
  },
  {
   "cell_type": "markdown",
   "metadata": {},
   "source": [
    "### Divide dataset on test and train sets"
   ]
  },
  {
   "cell_type": "code",
   "execution_count": 4,
   "metadata": {},
   "outputs": [],
   "source": [
    "N_COMPONENTS = 3\n",
    "pca = PCA(n_components=N_COMPONENTS)\n",
    "\n",
    "feature_labels = [f\"feature_{i}\" for i in range(1, N_COMPONENTS + 1)]\n",
    "\n",
    "mprep_enh = mprep_enh.loc[mprep_enh[\"Season\"] > 1985]\n",
    "wprep_enh = wprep_enh.loc[wprep_enh[\"Season\"] > 1998]\n",
    "X_featm = mprep_enh.drop([\"Result\", \"DayNum\"], axis=1)\n",
    "ym = mprep_enh.Result\n",
    "\n",
    "X_featw = wprep_enh.drop([\"Result\", \"DayNum\"], axis=1)\n",
    "yw = wprep_enh.Result\n",
    "\n",
    "X_trainm, X_testm, y_trainm, y_testm = train_test_split(X_featm, ym, test_size=0.1)\n",
    "X_trainw, X_testw, y_trainw, y_testw = train_test_split(X_featw, yw, test_size=0.1)\n",
    "\n",
    "X_trainm_pca = pd.DataFrame(pca.fit_transform(X_trainm), columns=feature_labels)\n",
    "X_testm_pca = pd.DataFrame(pca.transform(X_testm), columns=feature_labels)\n",
    "\n",
    "X_trainw_pca = pd.DataFrame(pca.fit_transform(X_trainw), columns=feature_labels)\n",
    "X_testw_pca = pd.DataFrame(pca.transform(X_testw), columns=feature_labels)"
   ]
  },
  {
   "cell_type": "markdown",
   "metadata": {},
   "source": [
    "### Without PCA"
   ]
  },
  {
   "cell_type": "code",
   "execution_count": 5,
   "metadata": {},
   "outputs": [],
   "source": [
    "rf_clfm = RandomForestClassifier()\n",
    "rf_clfm.fit(X_trainm, y_trainm)\n",
    "\n",
    "rf_clfw = RandomForestClassifier()\n",
    "_ = rf_clfw.fit(X_trainw, y_trainw)"
   ]
  },
  {
   "cell_type": "code",
   "execution_count": 6,
   "metadata": {},
   "outputs": [
    {
     "name": "stdout",
     "output_type": "stream",
     "text": [
      "Brier score for mens data: 0.25\n",
      "Brier score for womens data: 0.233\n"
     ]
    }
   ],
   "source": [
    "pred_probsm = rf_clfm.predict_proba(X_testm)[:, 1]\n",
    "pred_probsw = rf_clfw.predict_proba(X_testw)[:, 1]\n",
    "\n",
    "print(f\"Brier score for mens data: {np.round(brier_score_loss(y_testm, pred_probsm), 3).item()}\")\n",
    "print(f\"Brier score for womens data: {np.round(brier_score_loss(y_testw, pred_probsw), 3).item()}\")"
   ]
  },
  {
   "cell_type": "code",
   "execution_count": 12,
   "metadata": {},
   "outputs": [
    {
     "name": "stdout",
     "output_type": "stream",
     "text": [
      "For men's games\n"
     ]
    },
    {
     "data": {
      "text/html": [
       "<style type=\"text/css\">\n",
       "#T_fcf6f_row1_col1, #T_fcf6f_row2_col1, #T_fcf6f_row4_col2, #T_fcf6f_row5_col2, #T_fcf6f_row6_col1, #T_fcf6f_row6_col2, #T_fcf6f_row7_col1, #T_fcf6f_row7_col2, #T_fcf6f_row8_col1, #T_fcf6f_row9_col2 {\n",
       "  background-color: green;\n",
       "}\n",
       "</style>\n",
       "<table id=\"T_fcf6f\">\n",
       "  <thead>\n",
       "    <tr>\n",
       "      <th class=\"blank level0\" >&nbsp;</th>\n",
       "      <th id=\"T_fcf6f_level0_col0\" class=\"col_heading level0 col0\" >Feature</th>\n",
       "      <th id=\"T_fcf6f_level0_col1\" class=\"col_heading level0 col1\" >Importance_clf</th>\n",
       "      <th id=\"T_fcf6f_level0_col2\" class=\"col_heading level0 col2\" >Importance_mi</th>\n",
       "    </tr>\n",
       "  </thead>\n",
       "  <tbody>\n",
       "    <tr>\n",
       "      <th id=\"T_fcf6f_level0_row0\" class=\"row_heading level0 row0\" >0</th>\n",
       "      <td id=\"T_fcf6f_row0_col0\" class=\"data row0 col0\" >Season</td>\n",
       "      <td id=\"T_fcf6f_row0_col1\" class=\"data row0 col1\" >0.117652</td>\n",
       "      <td id=\"T_fcf6f_row0_col2\" class=\"data row0 col2\" >0.001438</td>\n",
       "    </tr>\n",
       "    <tr>\n",
       "      <th id=\"T_fcf6f_level0_row1\" class=\"row_heading level0 row1\" >1</th>\n",
       "      <td id=\"T_fcf6f_row1_col0\" class=\"data row1 col0\" >WTeamID</td>\n",
       "      <td id=\"T_fcf6f_row1_col1\" class=\"data row1 col1\" >0.156088</td>\n",
       "      <td id=\"T_fcf6f_row1_col2\" class=\"data row1 col2\" >0.022414</td>\n",
       "    </tr>\n",
       "    <tr>\n",
       "      <th id=\"T_fcf6f_level0_row2\" class=\"row_heading level0 row2\" >2</th>\n",
       "      <td id=\"T_fcf6f_row2_col0\" class=\"data row2 col0\" >LTeamID</td>\n",
       "      <td id=\"T_fcf6f_row2_col1\" class=\"data row2 col1\" >0.172326</td>\n",
       "      <td id=\"T_fcf6f_row2_col2\" class=\"data row2 col2\" >0.021905</td>\n",
       "    </tr>\n",
       "    <tr>\n",
       "      <th id=\"T_fcf6f_level0_row3\" class=\"row_heading level0 row3\" >3</th>\n",
       "      <td id=\"T_fcf6f_row3_col0\" class=\"data row3 col0\" >is_tournament</td>\n",
       "      <td id=\"T_fcf6f_row3_col1\" class=\"data row3 col1\" >0.001348</td>\n",
       "      <td id=\"T_fcf6f_row3_col2\" class=\"data row3 col2\" >0.001644</td>\n",
       "    </tr>\n",
       "    <tr>\n",
       "      <th id=\"T_fcf6f_level0_row4\" class=\"row_heading level0 row4\" >4</th>\n",
       "      <td id=\"T_fcf6f_row4_col0\" class=\"data row4 col0\" >SeedW</td>\n",
       "      <td id=\"T_fcf6f_row4_col1\" class=\"data row4 col1\" >0.025466</td>\n",
       "      <td id=\"T_fcf6f_row4_col2\" class=\"data row4 col2\" >0.053569</td>\n",
       "    </tr>\n",
       "    <tr>\n",
       "      <th id=\"T_fcf6f_level0_row5\" class=\"row_heading level0 row5\" >5</th>\n",
       "      <td id=\"T_fcf6f_row5_col0\" class=\"data row5 col0\" >SeedL</td>\n",
       "      <td id=\"T_fcf6f_row5_col1\" class=\"data row5 col1\" >0.024011</td>\n",
       "      <td id=\"T_fcf6f_row5_col2\" class=\"data row5 col2\" >0.054426</td>\n",
       "    </tr>\n",
       "    <tr>\n",
       "      <th id=\"T_fcf6f_level0_row6\" class=\"row_heading level0 row6\" >6</th>\n",
       "      <td id=\"T_fcf6f_row6_col0\" class=\"data row6 col0\" >WCoachName</td>\n",
       "      <td id=\"T_fcf6f_row6_col1\" class=\"data row6 col1\" >0.159619</td>\n",
       "      <td id=\"T_fcf6f_row6_col2\" class=\"data row6 col2\" >0.032300</td>\n",
       "    </tr>\n",
       "    <tr>\n",
       "      <th id=\"T_fcf6f_level0_row7\" class=\"row_heading level0 row7\" >7</th>\n",
       "      <td id=\"T_fcf6f_row7_col0\" class=\"data row7 col0\" >LCoachName</td>\n",
       "      <td id=\"T_fcf6f_row7_col1\" class=\"data row7 col1\" >0.175787</td>\n",
       "      <td id=\"T_fcf6f_row7_col2\" class=\"data row7 col2\" >0.033418</td>\n",
       "    </tr>\n",
       "    <tr>\n",
       "      <th id=\"T_fcf6f_level0_row8\" class=\"row_heading level0 row8\" >8</th>\n",
       "      <td id=\"T_fcf6f_row8_col0\" class=\"data row8 col0\" >Duration</td>\n",
       "      <td id=\"T_fcf6f_row8_col1\" class=\"data row8 col1\" >0.119032</td>\n",
       "      <td id=\"T_fcf6f_row8_col2\" class=\"data row8 col2\" >0.000467</td>\n",
       "    </tr>\n",
       "    <tr>\n",
       "      <th id=\"T_fcf6f_level0_row9\" class=\"row_heading level0 row9\" >9</th>\n",
       "      <td id=\"T_fcf6f_row9_col0\" class=\"data row9 col0\" >SeedDiff</td>\n",
       "      <td id=\"T_fcf6f_row9_col1\" class=\"data row9 col1\" >0.048671</td>\n",
       "      <td id=\"T_fcf6f_row9_col2\" class=\"data row9 col2\" >0.033102</td>\n",
       "    </tr>\n",
       "  </tbody>\n",
       "</table>\n"
      ],
      "text/plain": [
       "<pandas.io.formats.style.Styler at 0x12c9d693740>"
      ]
     },
     "metadata": {},
     "output_type": "display_data"
    },
    {
     "name": "stdout",
     "output_type": "stream",
     "text": [
      "For women's games\n"
     ]
    },
    {
     "data": {
      "text/html": [
       "<style type=\"text/css\">\n",
       "#T_2db80_row0_col1, #T_2db80_row1_col1, #T_2db80_row1_col2, #T_2db80_row2_col1, #T_2db80_row2_col2, #T_2db80_row4_col2, #T_2db80_row5_col1, #T_2db80_row5_col2, #T_2db80_row6_col1, #T_2db80_row6_col2 {\n",
       "  background-color: green;\n",
       "}\n",
       "</style>\n",
       "<table id=\"T_2db80\">\n",
       "  <thead>\n",
       "    <tr>\n",
       "      <th class=\"blank level0\" >&nbsp;</th>\n",
       "      <th id=\"T_2db80_level0_col0\" class=\"col_heading level0 col0\" >Feature</th>\n",
       "      <th id=\"T_2db80_level0_col1\" class=\"col_heading level0 col1\" >Importance_clf</th>\n",
       "      <th id=\"T_2db80_level0_col2\" class=\"col_heading level0 col2\" >Importance_mi</th>\n",
       "    </tr>\n",
       "  </thead>\n",
       "  <tbody>\n",
       "    <tr>\n",
       "      <th id=\"T_2db80_level0_row0\" class=\"row_heading level0 row0\" >0</th>\n",
       "      <td id=\"T_2db80_row0_col0\" class=\"data row0 col0\" >Season</td>\n",
       "      <td id=\"T_2db80_row0_col1\" class=\"data row0 col1\" >0.117984</td>\n",
       "      <td id=\"T_2db80_row0_col2\" class=\"data row0 col2\" >0.000607</td>\n",
       "    </tr>\n",
       "    <tr>\n",
       "      <th id=\"T_2db80_level0_row1\" class=\"row_heading level0 row1\" >1</th>\n",
       "      <td id=\"T_2db80_row1_col0\" class=\"data row1 col0\" >WTeamID</td>\n",
       "      <td id=\"T_2db80_row1_col1\" class=\"data row1 col1\" >0.387779</td>\n",
       "      <td id=\"T_2db80_row1_col2\" class=\"data row1 col2\" >0.028062</td>\n",
       "    </tr>\n",
       "    <tr>\n",
       "      <th id=\"T_2db80_level0_row2\" class=\"row_heading level0 row2\" >2</th>\n",
       "      <td id=\"T_2db80_row2_col0\" class=\"data row2 col0\" >LTeamID</td>\n",
       "      <td id=\"T_2db80_row2_col1\" class=\"data row2 col1\" >0.372157</td>\n",
       "      <td id=\"T_2db80_row2_col2\" class=\"data row2 col2\" >0.029269</td>\n",
       "    </tr>\n",
       "    <tr>\n",
       "      <th id=\"T_2db80_level0_row3\" class=\"row_heading level0 row3\" >3</th>\n",
       "      <td id=\"T_2db80_row3_col0\" class=\"data row3 col0\" >is_tournament</td>\n",
       "      <td id=\"T_2db80_row3_col1\" class=\"data row3 col1\" >0.001315</td>\n",
       "      <td id=\"T_2db80_row3_col2\" class=\"data row3 col2\" >0.000509</td>\n",
       "    </tr>\n",
       "    <tr>\n",
       "      <th id=\"T_2db80_level0_row4\" class=\"row_heading level0 row4\" >4</th>\n",
       "      <td id=\"T_2db80_row4_col0\" class=\"data row4 col0\" >SeedW</td>\n",
       "      <td id=\"T_2db80_row4_col1\" class=\"data row4 col1\" >0.029644</td>\n",
       "      <td id=\"T_2db80_row4_col2\" class=\"data row4 col2\" >0.047571</td>\n",
       "    </tr>\n",
       "    <tr>\n",
       "      <th id=\"T_2db80_level0_row5\" class=\"row_heading level0 row5\" >5</th>\n",
       "      <td id=\"T_2db80_row5_col0\" class=\"data row5 col0\" >SeedL</td>\n",
       "      <td id=\"T_2db80_row5_col1\" class=\"data row5 col1\" >0.030592</td>\n",
       "      <td id=\"T_2db80_row5_col2\" class=\"data row5 col2\" >0.045157</td>\n",
       "    </tr>\n",
       "    <tr>\n",
       "      <th id=\"T_2db80_level0_row6\" class=\"row_heading level0 row6\" >6</th>\n",
       "      <td id=\"T_2db80_row6_col0\" class=\"data row6 col0\" >SeedDiff</td>\n",
       "      <td id=\"T_2db80_row6_col1\" class=\"data row6 col1\" >0.060530</td>\n",
       "      <td id=\"T_2db80_row6_col2\" class=\"data row6 col2\" >0.051971</td>\n",
       "    </tr>\n",
       "  </tbody>\n",
       "</table>\n"
      ],
      "text/plain": [
       "<pandas.io.formats.style.Styler at 0x12cbc24f920>"
      ]
     },
     "metadata": {},
     "output_type": "display_data"
    }
   ],
   "source": [
    "print(\"For men's games\")\n",
    "display(feature_importance(rf_clfm, mprep_enh.drop(\"DayNum\", axis=1)))\n",
    "\n",
    "print(\"For women's games\")\n",
    "display(feature_importance(rf_clfw, wprep_enh.drop(\"DayNum\", axis=1)))"
   ]
  },
  {
   "cell_type": "markdown",
   "metadata": {},
   "source": [
    "### With PCA"
   ]
  },
  {
   "cell_type": "code",
   "execution_count": 15,
   "metadata": {},
   "outputs": [
    {
     "name": "stdout",
     "output_type": "stream",
     "text": [
      "Brier score for mens data: 0.278\n",
      "Brier score for womens data: 0.244\n"
     ]
    }
   ],
   "source": [
    "rf_clfm = RandomForestClassifier()\n",
    "rf_clfm.fit(X_trainm_pca, y_trainm)\n",
    "\n",
    "rf_clfw = RandomForestClassifier()\n",
    "_ = rf_clfw.fit(X_trainw_pca, y_trainw)\n",
    "\n",
    "\n",
    "pred_probsm = rf_clfm.predict_proba(X_testm_pca)[:, 1]\n",
    "pred_probsw = rf_clfw.predict_proba(X_testw_pca)[:, 1]\n",
    "\n",
    "print(f\"Brier score for mens data: {np.round(brier_score_loss(y_testm, pred_probsm), 3).item()}\")\n",
    "print(f\"Brier score for womens data: {np.round(brier_score_loss(y_testw, pred_probsw), 3).item()}\")"
   ]
  },
  {
   "cell_type": "code",
   "execution_count": 16,
   "metadata": {},
   "outputs": [
    {
     "name": "stdout",
     "output_type": "stream",
     "text": [
      "For men's games\n"
     ]
    },
    {
     "data": {
      "text/html": [
       "<style type=\"text/css\">\n",
       "#T_529ad_row0_col1, #T_529ad_row0_col2, #T_529ad_row1_col1, #T_529ad_row1_col2, #T_529ad_row2_col1, #T_529ad_row2_col2 {\n",
       "  background-color: green;\n",
       "}\n",
       "</style>\n",
       "<table id=\"T_529ad\">\n",
       "  <thead>\n",
       "    <tr>\n",
       "      <th class=\"blank level0\" >&nbsp;</th>\n",
       "      <th id=\"T_529ad_level0_col0\" class=\"col_heading level0 col0\" >Feature</th>\n",
       "      <th id=\"T_529ad_level0_col1\" class=\"col_heading level0 col1\" >Importance_clf</th>\n",
       "      <th id=\"T_529ad_level0_col2\" class=\"col_heading level0 col2\" >Importance_mi</th>\n",
       "    </tr>\n",
       "  </thead>\n",
       "  <tbody>\n",
       "    <tr>\n",
       "      <th id=\"T_529ad_level0_row0\" class=\"row_heading level0 row0\" >0</th>\n",
       "      <td id=\"T_529ad_row0_col0\" class=\"data row0 col0\" >feature_1</td>\n",
       "      <td id=\"T_529ad_row0_col1\" class=\"data row0 col1\" >0.332923</td>\n",
       "      <td id=\"T_529ad_row0_col2\" class=\"data row0 col2\" >0.069217</td>\n",
       "    </tr>\n",
       "    <tr>\n",
       "      <th id=\"T_529ad_level0_row1\" class=\"row_heading level0 row1\" >1</th>\n",
       "      <td id=\"T_529ad_row1_col0\" class=\"data row1 col0\" >feature_2</td>\n",
       "      <td id=\"T_529ad_row1_col1\" class=\"data row1 col1\" >0.333765</td>\n",
       "      <td id=\"T_529ad_row1_col2\" class=\"data row1 col2\" >0.068002</td>\n",
       "    </tr>\n",
       "    <tr>\n",
       "      <th id=\"T_529ad_level0_row2\" class=\"row_heading level0 row2\" >2</th>\n",
       "      <td id=\"T_529ad_row2_col0\" class=\"data row2 col0\" >feature_3</td>\n",
       "      <td id=\"T_529ad_row2_col1\" class=\"data row2 col1\" >0.333312</td>\n",
       "      <td id=\"T_529ad_row2_col2\" class=\"data row2 col2\" >0.038686</td>\n",
       "    </tr>\n",
       "  </tbody>\n",
       "</table>\n"
      ],
      "text/plain": [
       "<pandas.io.formats.style.Styler at 0x12caf6a4b00>"
      ]
     },
     "metadata": {},
     "output_type": "display_data"
    },
    {
     "name": "stdout",
     "output_type": "stream",
     "text": [
      "For women's games\n"
     ]
    },
    {
     "data": {
      "text/html": [
       "<style type=\"text/css\">\n",
       "#T_ec26f_row0_col1, #T_ec26f_row0_col2, #T_ec26f_row1_col1, #T_ec26f_row1_col2, #T_ec26f_row2_col1, #T_ec26f_row2_col2 {\n",
       "  background-color: green;\n",
       "}\n",
       "</style>\n",
       "<table id=\"T_ec26f\">\n",
       "  <thead>\n",
       "    <tr>\n",
       "      <th class=\"blank level0\" >&nbsp;</th>\n",
       "      <th id=\"T_ec26f_level0_col0\" class=\"col_heading level0 col0\" >Feature</th>\n",
       "      <th id=\"T_ec26f_level0_col1\" class=\"col_heading level0 col1\" >Importance_clf</th>\n",
       "      <th id=\"T_ec26f_level0_col2\" class=\"col_heading level0 col2\" >Importance_mi</th>\n",
       "    </tr>\n",
       "  </thead>\n",
       "  <tbody>\n",
       "    <tr>\n",
       "      <th id=\"T_ec26f_level0_row0\" class=\"row_heading level0 row0\" >0</th>\n",
       "      <td id=\"T_ec26f_row0_col0\" class=\"data row0 col0\" >feature_1</td>\n",
       "      <td id=\"T_ec26f_row0_col1\" class=\"data row0 col1\" >0.339288</td>\n",
       "      <td id=\"T_ec26f_row0_col2\" class=\"data row0 col2\" >0.086421</td>\n",
       "    </tr>\n",
       "    <tr>\n",
       "      <th id=\"T_ec26f_level0_row1\" class=\"row_heading level0 row1\" >1</th>\n",
       "      <td id=\"T_ec26f_row1_col0\" class=\"data row1 col0\" >feature_2</td>\n",
       "      <td id=\"T_ec26f_row1_col1\" class=\"data row1 col1\" >0.344058</td>\n",
       "      <td id=\"T_ec26f_row1_col2\" class=\"data row1 col2\" >0.117547</td>\n",
       "    </tr>\n",
       "    <tr>\n",
       "      <th id=\"T_ec26f_level0_row2\" class=\"row_heading level0 row2\" >2</th>\n",
       "      <td id=\"T_ec26f_row2_col0\" class=\"data row2 col0\" >feature_3</td>\n",
       "      <td id=\"T_ec26f_row2_col1\" class=\"data row2 col1\" >0.316654</td>\n",
       "      <td id=\"T_ec26f_row2_col2\" class=\"data row2 col2\" >0.031244</td>\n",
       "    </tr>\n",
       "  </tbody>\n",
       "</table>\n"
      ],
      "text/plain": [
       "<pandas.io.formats.style.Styler at 0x12caf67d9d0>"
      ]
     },
     "metadata": {},
     "output_type": "display_data"
    }
   ],
   "source": [
    "wdatatrain = pd.concat([X_trainw_pca, y_trainw.reset_index(drop=True)], axis=1)\n",
    "mdatatrain = pd.concat([X_trainm_pca, y_trainm.reset_index(drop=True)], axis=1)\n",
    "\n",
    "wdatatest = pd.concat([X_testw_pca, y_testw.reset_index(drop=True)], axis=1)\n",
    "mdatatest = pd.concat([X_testm_pca, y_testm.reset_index(drop=True)], axis=1)\n",
    "\n",
    "wdata = pd.concat([wdatatrain, wdatatest], axis=0).reset_index(drop=True)\n",
    "mdata = pd.concat([mdatatrain, mdatatest], axis=0).reset_index(drop=True)\n",
    "\n",
    "print(\"For men's games\")\n",
    "display(feature_importance(rf_clfm, mdata))\n",
    "\n",
    "print(\"For women's games\")\n",
    "display(feature_importance(rf_clfw, wdata))"
   ]
  }
 ],
 "metadata": {
  "kernelspec": {
   "display_name": "venv",
   "language": "python",
   "name": "python3"
  },
  "language_info": {
   "codemirror_mode": {
    "name": "ipython",
    "version": 3
   },
   "file_extension": ".py",
   "mimetype": "text/x-python",
   "name": "python",
   "nbconvert_exporter": "python",
   "pygments_lexer": "ipython3",
   "version": "3.12.6"
  }
 },
 "nbformat": 4,
 "nbformat_minor": 2
}
