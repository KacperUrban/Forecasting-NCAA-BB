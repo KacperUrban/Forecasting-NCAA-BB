{
 "cells": [
  {
   "cell_type": "markdown",
   "id": "ca7cb152",
   "metadata": {},
   "source": [
    "In this notebook I will focus on model selection. I will test few or more models and I will choose the best to hyperaparameters tuning. So far I tested three models. Below I will present theirs brier score (smaller is better). I test all models on 10-fold time series cross validation. Except below models I tested SVM model, but it occured model took a lot of time to train. Espescially this model doesn't provide native predict_proba method and estimate it with cross validation (exact info you can find on sklearn website).\n",
    "\n",
    "For men dataset:\n",
    "1. Logistic regression: 0.20055\n",
    "2. Stacking classfier: 0.20126\n",
    "3. Random forest: 0.20602\n",
    "4. XGboost: 0.20962\n",
    "5. AdaBoost: 0.21432\n",
    "6. KNN: 0.24598\n",
    "7. CustomModel: 0.26291\n",
    "8. MLP: 0.26731\n",
    "9. Decision tree: 0.40546\n",
    "\n",
    "For women dataset:\n",
    "1. Stacking classfier: 0.19747\n",
    "2. Logistic regression: 0.20135\n",
    "3. Xgboost: 0.20364\n",
    "4. Random forest: 0.20679\n",
    "5. AdaBoost: 0.21465\n",
    "6. KNN: 0.24598\n",
    "7. CustomModel: 0.27187\n",
    "8. MLP: 0.30917\n",
    "9. Decision tree: 0.39947"
   ]
  },
  {
   "cell_type": "markdown",
   "id": "09ef7085",
   "metadata": {},
   "source": [
    "## Load libraries"
   ]
  },
  {
   "cell_type": "code",
   "execution_count": 26,
   "id": "02ec2f5e",
   "metadata": {},
   "outputs": [],
   "source": [
    "import fireducks.pandas as pd\n",
    "import numpy as np\n",
    "from sklearn.metrics import brier_score_loss\n",
    "from sklearn.linear_model import LogisticRegression\n",
    "from sklearn.svm import SVC\n",
    "from sklearn.ensemble import RandomForestClassifier, AdaBoostClassifier, StackingClassifier\n",
    "from sklearn.tree import DecisionTreeClassifier\n",
    "from sklearn.neighbors import KNeighborsClassifier\n",
    "from sklearn.neural_network import MLPClassifier\n",
    "from sklearn.model_selection import TimeSeriesSplit\n",
    "from sklearn.base import BaseEstimator, ClassifierMixin\n",
    "from custom_utils import transform_data, enrich_data\n",
    "import mlflow\n",
    "from xgboost import XGBClassifier"
   ]
  },
  {
   "cell_type": "code",
   "execution_count": 23,
   "id": "ebcf7dd9",
   "metadata": {},
   "outputs": [
    {
     "data": {
      "text/plain": [
       "<Experiment: artifact_location='mlflow-artifacts:/577994152132513070', creation_time=1747996421002, experiment_id='577994152132513070', last_update_time=1747996421002, lifecycle_stage='active', name='NCAA Classifiers', tags={}>"
      ]
     },
     "execution_count": 23,
     "metadata": {},
     "output_type": "execute_result"
    }
   ],
   "source": [
    "mlflow.set_tracking_uri(uri=\"http://127.0.0.1:8080\")\n",
    "mlflow.set_experiment(\"NCAA Classifiers\")"
   ]
  },
  {
   "cell_type": "markdown",
   "id": "953a7384",
   "metadata": {},
   "source": [
    "## Load and prepare data"
   ]
  },
  {
   "cell_type": "code",
   "execution_count": 10,
   "id": "1507f152",
   "metadata": {},
   "outputs": [
    {
     "name": "stderr",
     "output_type": "stream",
     "text": [
      "/home/kacper/Projects/Forecasting-NCAA-BB/venv/lib/python3.12/site-packages/sklearn/preprocessing/_label.py:110: DataConversionWarning: A column-vector y was passed when a 1d array was expected. Please change the shape of y to (n_samples, ), for example using ravel().\n",
      "  y = column_or_1d(y, warn=True)\n",
      "/home/kacper/Projects/Forecasting-NCAA-BB/venv/lib/python3.12/site-packages/sklearn/preprocessing/_label.py:129: DataConversionWarning: A column-vector y was passed when a 1d array was expected. Please change the shape of y to (n_samples, ), for example using ravel().\n",
      "  y = column_or_1d(y, dtype=self.classes_.dtype, warn=True)\n"
     ]
    }
   ],
   "source": [
    "wregularseason = pd.read_csv(\"data/WRegularSeasonCompactResults.csv\")\n",
    "wtourneyseason = pd.read_csv(\"data/WNCAATourneyCompactResults.csv\")\n",
    "\n",
    "mregularseason = pd.read_csv(\"data/MRegularSeasonCompactResults.csv\")\n",
    "mtourneyseason = pd.read_csv(\"data/MNCAATourneyCompactResults.csv\")\n",
    "\n",
    "mseason = pd.read_csv(\"data/MSeasons.csv\")\n",
    "wseason = pd.read_csv(\"data/WSeasons.csv\")\n",
    "\n",
    "wdata = pd.concat([wregularseason, wtourneyseason], axis=0)\n",
    "wdata = wdata.loc[wdata.Season > 2015].reset_index(drop=True)\n",
    "\n",
    "mdata = pd.concat([mregularseason, mtourneyseason], axis=0).reset_index(drop=True)\n",
    "mdata = mdata.loc[mdata.Season > 2015].reset_index(drop=True)\n",
    "\n",
    "wprep = transform_data(wdata)\n",
    "mprep = transform_data(mdata)\n",
    "\n",
    "mprep_enh = enrich_data(mprep, \"M\")\n",
    "wprep_enh = enrich_data(wprep, \"W\")\n",
    "\n",
    "X_featm = mprep_enh.drop([\"Result\", \"DayNum\"], axis=1)\n",
    "ym = mprep_enh.Result\n",
    "\n",
    "X_featw = wprep_enh.drop([\"Result\", \"DayNum\"], axis=1)\n",
    "yw = wprep_enh.Result\n",
    "\n",
    "tscv = TimeSeriesSplit(n_splits=10)"
   ]
  },
  {
   "cell_type": "markdown",
   "id": "78b93e12",
   "metadata": {},
   "source": [
    "## Model selection"
   ]
  },
  {
   "cell_type": "markdown",
   "id": "876a85b2",
   "metadata": {},
   "source": [
    "### Decision tree"
   ]
  },
  {
   "cell_type": "markdown",
   "id": "c4cb986e",
   "metadata": {},
   "source": [
    "#### Men"
   ]
  },
  {
   "cell_type": "code",
   "execution_count": 4,
   "id": "a166665d",
   "metadata": {},
   "outputs": [
    {
     "name": "stdout",
     "output_type": "stream",
     "text": [
      "🏃 View run enchanting-koi-552 at: http://127.0.0.1:8080/#/experiments/577994152132513070/runs/77666a4e3cd4460ebf4a75e19ef67948\n",
      "🧪 View experiment at: http://127.0.0.1:8080/#/experiments/577994152132513070\n"
     ]
    }
   ],
   "source": [
    "with mlflow.start_run():\n",
    "    mlflow.set_tags({\"Gender\": \"Men\", \"Model\" : \"Decision tree\", \"Hyperparams\" : \"Basic\"})\n",
    "    brier_score_cv = {}\n",
    "\n",
    "    for id_split, (train_idx, test_idx) in enumerate(tscv.split(X_featm)):\n",
    "        X_train, y_train = X_featm.iloc[train_idx], ym.iloc[train_idx]\n",
    "        X_test, y_test = X_featm.iloc[test_idx], ym.iloc[test_idx]\n",
    "\n",
    "        clf = DecisionTreeClassifier(random_state=42)\n",
    "        clf.fit(X_train, y_train)\n",
    "\n",
    "        pred_proba = clf.predict_proba(X_test)[:, 1]\n",
    "        brier_score_fold = brier_score_loss(y_test, pred_proba).item()\n",
    "        brier_score_cv[f\"Fold_{id_split}_Brier_Score\"] = brier_score_fold\n",
    "    brier_score_cv[\"Avg_Brier_Score\"] = np.mean(list(brier_score_cv.values()))\n",
    "    mlflow.log_metrics(brier_score_cv)"
   ]
  },
  {
   "cell_type": "markdown",
   "id": "d478908a",
   "metadata": {},
   "source": [
    "#### Women"
   ]
  },
  {
   "cell_type": "code",
   "execution_count": 5,
   "id": "16ba073c",
   "metadata": {},
   "outputs": [
    {
     "name": "stdout",
     "output_type": "stream",
     "text": [
      "🏃 View run amusing-mole-254 at: http://127.0.0.1:8080/#/experiments/577994152132513070/runs/bb5d27525390410d9e3a24d24d3f4ec3\n",
      "🧪 View experiment at: http://127.0.0.1:8080/#/experiments/577994152132513070\n"
     ]
    }
   ],
   "source": [
    "with mlflow.start_run():\n",
    "    mlflow.set_tags({\"Gender\": \"Women\", \"Model\" : \"Decision tree\", \"Hyperparams\" : \"Basic\"})\n",
    "    brier_score_cv = {}\n",
    "\n",
    "    for id_split, (train_idx, test_idx) in enumerate(tscv.split(X_featw)):\n",
    "        X_train, y_train = X_featw.iloc[train_idx], yw.iloc[train_idx]\n",
    "        X_test, y_test = X_featw.iloc[test_idx], yw.iloc[test_idx]\n",
    "\n",
    "        clf = DecisionTreeClassifier(random_state=42)\n",
    "        clf.fit(X_train, y_train)\n",
    "\n",
    "        pred_proba = clf.predict_proba(X_test)[:, 1]\n",
    "        brier_score_fold = brier_score_loss(y_test, pred_proba).item()\n",
    "        brier_score_cv[f\"Fold_{id_split}_Brier_Score\"] = brier_score_fold\n",
    "    brier_score_cv[\"Avg_Brier_Score\"] = np.mean(list(brier_score_cv.values()))\n",
    "    mlflow.log_metrics(brier_score_cv)"
   ]
  },
  {
   "cell_type": "markdown",
   "id": "ff9028fc",
   "metadata": {},
   "source": [
    "### Random forest"
   ]
  },
  {
   "cell_type": "markdown",
   "id": "87a986f9",
   "metadata": {},
   "source": [
    "#### Men"
   ]
  },
  {
   "cell_type": "code",
   "execution_count": 6,
   "id": "fc0d6f02",
   "metadata": {},
   "outputs": [
    {
     "name": "stdout",
     "output_type": "stream",
     "text": [
      "🏃 View run tasteful-owl-526 at: http://127.0.0.1:8080/#/experiments/577994152132513070/runs/20067e86297b4387866aaeb3de683548\n",
      "🧪 View experiment at: http://127.0.0.1:8080/#/experiments/577994152132513070\n"
     ]
    }
   ],
   "source": [
    "with mlflow.start_run():\n",
    "    mlflow.set_tags({\"Gender\": \"Men\", \"Model\" : \"Random forest\", \"Hyperparams\" : \"Basic\"})\n",
    "    brier_score_cv = {}\n",
    "\n",
    "    for id_split, (train_idx, test_idx) in enumerate(tscv.split(X_featm)):\n",
    "        X_train, y_train = X_featm.iloc[train_idx], ym.iloc[train_idx]\n",
    "        X_test, y_test = X_featm.iloc[test_idx], ym.iloc[test_idx]\n",
    "\n",
    "        clf = RandomForestClassifier(random_state=42)\n",
    "        clf.fit(X_train, y_train)\n",
    "\n",
    "        pred_proba = clf.predict_proba(X_test)[:, 1]\n",
    "        brier_score_fold = brier_score_loss(y_test, pred_proba).item()\n",
    "        brier_score_cv[f\"Fold_{id_split}_Brier_Score\"] = brier_score_fold\n",
    "    brier_score_cv[\"Avg_Brier_Score\"] = np.mean(list(brier_score_cv.values()))\n",
    "    mlflow.log_metrics(brier_score_cv)"
   ]
  },
  {
   "cell_type": "markdown",
   "id": "4dd0f5a8",
   "metadata": {},
   "source": [
    "#### Women"
   ]
  },
  {
   "cell_type": "code",
   "execution_count": 7,
   "id": "e0074066",
   "metadata": {},
   "outputs": [
    {
     "name": "stdout",
     "output_type": "stream",
     "text": [
      "🏃 View run bright-ape-58 at: http://127.0.0.1:8080/#/experiments/577994152132513070/runs/bfb59b92c5dd42b58671f29fef721541\n",
      "🧪 View experiment at: http://127.0.0.1:8080/#/experiments/577994152132513070\n"
     ]
    }
   ],
   "source": [
    "with mlflow.start_run():\n",
    "    mlflow.set_tags({\"Gender\": \"Women\", \"Model\" : \"Random forest\", \"Hyperparams\" : \"Basic\"})\n",
    "    brier_score_cv = {}\n",
    "\n",
    "    for id_split, (train_idx, test_idx) in enumerate(tscv.split(X_featw)):\n",
    "        X_train, y_train = X_featw.iloc[train_idx], yw.iloc[train_idx]\n",
    "        X_test, y_test = X_featw.iloc[test_idx], yw.iloc[test_idx]\n",
    "\n",
    "        clf = RandomForestClassifier(random_state=42)\n",
    "        clf.fit(X_train, y_train)\n",
    "\n",
    "        pred_proba = clf.predict_proba(X_test)[:, 1]\n",
    "        brier_score_fold = brier_score_loss(y_test, pred_proba).item()\n",
    "        brier_score_cv[f\"Fold_{id_split}_Brier_Score\"] = brier_score_fold\n",
    "    brier_score_cv[\"Avg_Brier_Score\"] = np.mean(list(brier_score_cv.values()))\n",
    "    mlflow.log_metrics(brier_score_cv)"
   ]
  },
  {
   "cell_type": "markdown",
   "id": "fa5b416d",
   "metadata": {},
   "source": [
    "### Logistic Regression"
   ]
  },
  {
   "cell_type": "markdown",
   "id": "b1c32d10",
   "metadata": {},
   "source": [
    "#### Men"
   ]
  },
  {
   "cell_type": "code",
   "execution_count": 8,
   "id": "eab40939",
   "metadata": {},
   "outputs": [
    {
     "name": "stderr",
     "output_type": "stream",
     "text": [
      "/home/kacper/Projects/Forecasting-NCAA-BB/venv/lib/python3.12/site-packages/sklearn/linear_model/_logistic.py:465: ConvergenceWarning: lbfgs failed to converge (status=1):\n",
      "STOP: TOTAL NO. OF ITERATIONS REACHED LIMIT.\n",
      "\n",
      "Increase the number of iterations (max_iter) or scale the data as shown in:\n",
      "    https://scikit-learn.org/stable/modules/preprocessing.html\n",
      "Please also refer to the documentation for alternative solver options:\n",
      "    https://scikit-learn.org/stable/modules/linear_model.html#logistic-regression\n",
      "  n_iter_i = _check_optimize_result(\n",
      "/home/kacper/Projects/Forecasting-NCAA-BB/venv/lib/python3.12/site-packages/sklearn/linear_model/_logistic.py:465: ConvergenceWarning: lbfgs failed to converge (status=1):\n",
      "STOP: TOTAL NO. OF ITERATIONS REACHED LIMIT.\n",
      "\n",
      "Increase the number of iterations (max_iter) or scale the data as shown in:\n",
      "    https://scikit-learn.org/stable/modules/preprocessing.html\n",
      "Please also refer to the documentation for alternative solver options:\n",
      "    https://scikit-learn.org/stable/modules/linear_model.html#logistic-regression\n",
      "  n_iter_i = _check_optimize_result(\n",
      "/home/kacper/Projects/Forecasting-NCAA-BB/venv/lib/python3.12/site-packages/sklearn/linear_model/_logistic.py:465: ConvergenceWarning: lbfgs failed to converge (status=1):\n",
      "STOP: TOTAL NO. OF ITERATIONS REACHED LIMIT.\n",
      "\n",
      "Increase the number of iterations (max_iter) or scale the data as shown in:\n",
      "    https://scikit-learn.org/stable/modules/preprocessing.html\n",
      "Please also refer to the documentation for alternative solver options:\n",
      "    https://scikit-learn.org/stable/modules/linear_model.html#logistic-regression\n",
      "  n_iter_i = _check_optimize_result(\n",
      "/home/kacper/Projects/Forecasting-NCAA-BB/venv/lib/python3.12/site-packages/sklearn/linear_model/_logistic.py:465: ConvergenceWarning: lbfgs failed to converge (status=1):\n",
      "STOP: TOTAL NO. OF ITERATIONS REACHED LIMIT.\n",
      "\n",
      "Increase the number of iterations (max_iter) or scale the data as shown in:\n",
      "    https://scikit-learn.org/stable/modules/preprocessing.html\n",
      "Please also refer to the documentation for alternative solver options:\n",
      "    https://scikit-learn.org/stable/modules/linear_model.html#logistic-regression\n",
      "  n_iter_i = _check_optimize_result(\n",
      "/home/kacper/Projects/Forecasting-NCAA-BB/venv/lib/python3.12/site-packages/sklearn/linear_model/_logistic.py:465: ConvergenceWarning: lbfgs failed to converge (status=1):\n",
      "STOP: TOTAL NO. OF ITERATIONS REACHED LIMIT.\n",
      "\n",
      "Increase the number of iterations (max_iter) or scale the data as shown in:\n",
      "    https://scikit-learn.org/stable/modules/preprocessing.html\n",
      "Please also refer to the documentation for alternative solver options:\n",
      "    https://scikit-learn.org/stable/modules/linear_model.html#logistic-regression\n",
      "  n_iter_i = _check_optimize_result(\n",
      "/home/kacper/Projects/Forecasting-NCAA-BB/venv/lib/python3.12/site-packages/sklearn/linear_model/_logistic.py:465: ConvergenceWarning: lbfgs failed to converge (status=1):\n",
      "STOP: TOTAL NO. OF ITERATIONS REACHED LIMIT.\n",
      "\n",
      "Increase the number of iterations (max_iter) or scale the data as shown in:\n",
      "    https://scikit-learn.org/stable/modules/preprocessing.html\n",
      "Please also refer to the documentation for alternative solver options:\n",
      "    https://scikit-learn.org/stable/modules/linear_model.html#logistic-regression\n",
      "  n_iter_i = _check_optimize_result(\n",
      "/home/kacper/Projects/Forecasting-NCAA-BB/venv/lib/python3.12/site-packages/sklearn/linear_model/_logistic.py:465: ConvergenceWarning: lbfgs failed to converge (status=1):\n",
      "STOP: TOTAL NO. OF ITERATIONS REACHED LIMIT.\n",
      "\n",
      "Increase the number of iterations (max_iter) or scale the data as shown in:\n",
      "    https://scikit-learn.org/stable/modules/preprocessing.html\n",
      "Please also refer to the documentation for alternative solver options:\n",
      "    https://scikit-learn.org/stable/modules/linear_model.html#logistic-regression\n",
      "  n_iter_i = _check_optimize_result(\n",
      "/home/kacper/Projects/Forecasting-NCAA-BB/venv/lib/python3.12/site-packages/sklearn/linear_model/_logistic.py:465: ConvergenceWarning: lbfgs failed to converge (status=1):\n",
      "STOP: TOTAL NO. OF ITERATIONS REACHED LIMIT.\n",
      "\n",
      "Increase the number of iterations (max_iter) or scale the data as shown in:\n",
      "    https://scikit-learn.org/stable/modules/preprocessing.html\n",
      "Please also refer to the documentation for alternative solver options:\n",
      "    https://scikit-learn.org/stable/modules/linear_model.html#logistic-regression\n",
      "  n_iter_i = _check_optimize_result(\n",
      "/home/kacper/Projects/Forecasting-NCAA-BB/venv/lib/python3.12/site-packages/sklearn/linear_model/_logistic.py:465: ConvergenceWarning: lbfgs failed to converge (status=1):\n",
      "STOP: TOTAL NO. OF ITERATIONS REACHED LIMIT.\n",
      "\n",
      "Increase the number of iterations (max_iter) or scale the data as shown in:\n",
      "    https://scikit-learn.org/stable/modules/preprocessing.html\n",
      "Please also refer to the documentation for alternative solver options:\n",
      "    https://scikit-learn.org/stable/modules/linear_model.html#logistic-regression\n",
      "  n_iter_i = _check_optimize_result(\n"
     ]
    },
    {
     "name": "stdout",
     "output_type": "stream",
     "text": [
      "🏃 View run silent-midge-297 at: http://127.0.0.1:8080/#/experiments/577994152132513070/runs/b9d4811a3bc648339f1347365d687ce0\n",
      "🧪 View experiment at: http://127.0.0.1:8080/#/experiments/577994152132513070\n"
     ]
    },
    {
     "name": "stderr",
     "output_type": "stream",
     "text": [
      "/home/kacper/Projects/Forecasting-NCAA-BB/venv/lib/python3.12/site-packages/sklearn/linear_model/_logistic.py:465: ConvergenceWarning: lbfgs failed to converge (status=1):\n",
      "STOP: TOTAL NO. OF ITERATIONS REACHED LIMIT.\n",
      "\n",
      "Increase the number of iterations (max_iter) or scale the data as shown in:\n",
      "    https://scikit-learn.org/stable/modules/preprocessing.html\n",
      "Please also refer to the documentation for alternative solver options:\n",
      "    https://scikit-learn.org/stable/modules/linear_model.html#logistic-regression\n",
      "  n_iter_i = _check_optimize_result(\n"
     ]
    }
   ],
   "source": [
    "with mlflow.start_run():\n",
    "    mlflow.set_tags({\"Gender\": \"Men\", \"Model\" : \"Logistic regression\", \"Hyperparams\" : \"Basic\"})\n",
    "    brier_score_cv = {}\n",
    "\n",
    "    for id_split, (train_idx, test_idx) in enumerate(tscv.split(X_featm)):\n",
    "        X_train, y_train = X_featm.iloc[train_idx], ym.iloc[train_idx]\n",
    "        X_test, y_test = X_featm.iloc[test_idx], ym.iloc[test_idx]\n",
    "\n",
    "        clf = LogisticRegression(random_state=42)\n",
    "        clf.fit(X_train, y_train)\n",
    "\n",
    "        pred_proba = clf.predict_proba(X_test)[:, 1]\n",
    "        brier_score_fold = brier_score_loss(y_test, pred_proba).item()\n",
    "        brier_score_cv[f\"Fold_{id_split}_Brier_Score\"] = brier_score_fold\n",
    "    brier_score_cv[\"Avg_Brier_Score\"] = np.mean(list(brier_score_cv.values()))\n",
    "    mlflow.log_metrics(brier_score_cv)"
   ]
  },
  {
   "cell_type": "markdown",
   "id": "804f111f",
   "metadata": {},
   "source": [
    "#### Women"
   ]
  },
  {
   "cell_type": "code",
   "execution_count": 9,
   "id": "b122cb4f",
   "metadata": {},
   "outputs": [
    {
     "name": "stderr",
     "output_type": "stream",
     "text": [
      "/home/kacper/Projects/Forecasting-NCAA-BB/venv/lib/python3.12/site-packages/sklearn/linear_model/_logistic.py:465: ConvergenceWarning: lbfgs failed to converge (status=1):\n",
      "STOP: TOTAL NO. OF ITERATIONS REACHED LIMIT.\n",
      "\n",
      "Increase the number of iterations (max_iter) or scale the data as shown in:\n",
      "    https://scikit-learn.org/stable/modules/preprocessing.html\n",
      "Please also refer to the documentation for alternative solver options:\n",
      "    https://scikit-learn.org/stable/modules/linear_model.html#logistic-regression\n",
      "  n_iter_i = _check_optimize_result(\n",
      "/home/kacper/Projects/Forecasting-NCAA-BB/venv/lib/python3.12/site-packages/sklearn/linear_model/_logistic.py:465: ConvergenceWarning: lbfgs failed to converge (status=1):\n",
      "STOP: TOTAL NO. OF ITERATIONS REACHED LIMIT.\n",
      "\n",
      "Increase the number of iterations (max_iter) or scale the data as shown in:\n",
      "    https://scikit-learn.org/stable/modules/preprocessing.html\n",
      "Please also refer to the documentation for alternative solver options:\n",
      "    https://scikit-learn.org/stable/modules/linear_model.html#logistic-regression\n",
      "  n_iter_i = _check_optimize_result(\n",
      "/home/kacper/Projects/Forecasting-NCAA-BB/venv/lib/python3.12/site-packages/sklearn/linear_model/_logistic.py:465: ConvergenceWarning: lbfgs failed to converge (status=1):\n",
      "STOP: TOTAL NO. OF ITERATIONS REACHED LIMIT.\n",
      "\n",
      "Increase the number of iterations (max_iter) or scale the data as shown in:\n",
      "    https://scikit-learn.org/stable/modules/preprocessing.html\n",
      "Please also refer to the documentation for alternative solver options:\n",
      "    https://scikit-learn.org/stable/modules/linear_model.html#logistic-regression\n",
      "  n_iter_i = _check_optimize_result(\n",
      "/home/kacper/Projects/Forecasting-NCAA-BB/venv/lib/python3.12/site-packages/sklearn/linear_model/_logistic.py:465: ConvergenceWarning: lbfgs failed to converge (status=1):\n",
      "STOP: TOTAL NO. OF ITERATIONS REACHED LIMIT.\n",
      "\n",
      "Increase the number of iterations (max_iter) or scale the data as shown in:\n",
      "    https://scikit-learn.org/stable/modules/preprocessing.html\n",
      "Please also refer to the documentation for alternative solver options:\n",
      "    https://scikit-learn.org/stable/modules/linear_model.html#logistic-regression\n",
      "  n_iter_i = _check_optimize_result(\n",
      "/home/kacper/Projects/Forecasting-NCAA-BB/venv/lib/python3.12/site-packages/sklearn/linear_model/_logistic.py:465: ConvergenceWarning: lbfgs failed to converge (status=1):\n",
      "STOP: TOTAL NO. OF ITERATIONS REACHED LIMIT.\n",
      "\n",
      "Increase the number of iterations (max_iter) or scale the data as shown in:\n",
      "    https://scikit-learn.org/stable/modules/preprocessing.html\n",
      "Please also refer to the documentation for alternative solver options:\n",
      "    https://scikit-learn.org/stable/modules/linear_model.html#logistic-regression\n",
      "  n_iter_i = _check_optimize_result(\n",
      "/home/kacper/Projects/Forecasting-NCAA-BB/venv/lib/python3.12/site-packages/sklearn/linear_model/_logistic.py:465: ConvergenceWarning: lbfgs failed to converge (status=1):\n",
      "STOP: TOTAL NO. OF ITERATIONS REACHED LIMIT.\n",
      "\n",
      "Increase the number of iterations (max_iter) or scale the data as shown in:\n",
      "    https://scikit-learn.org/stable/modules/preprocessing.html\n",
      "Please also refer to the documentation for alternative solver options:\n",
      "    https://scikit-learn.org/stable/modules/linear_model.html#logistic-regression\n",
      "  n_iter_i = _check_optimize_result(\n",
      "/home/kacper/Projects/Forecasting-NCAA-BB/venv/lib/python3.12/site-packages/sklearn/linear_model/_logistic.py:465: ConvergenceWarning: lbfgs failed to converge (status=1):\n",
      "STOP: TOTAL NO. OF ITERATIONS REACHED LIMIT.\n",
      "\n",
      "Increase the number of iterations (max_iter) or scale the data as shown in:\n",
      "    https://scikit-learn.org/stable/modules/preprocessing.html\n",
      "Please also refer to the documentation for alternative solver options:\n",
      "    https://scikit-learn.org/stable/modules/linear_model.html#logistic-regression\n",
      "  n_iter_i = _check_optimize_result(\n",
      "/home/kacper/Projects/Forecasting-NCAA-BB/venv/lib/python3.12/site-packages/sklearn/linear_model/_logistic.py:465: ConvergenceWarning: lbfgs failed to converge (status=1):\n",
      "STOP: TOTAL NO. OF ITERATIONS REACHED LIMIT.\n",
      "\n",
      "Increase the number of iterations (max_iter) or scale the data as shown in:\n",
      "    https://scikit-learn.org/stable/modules/preprocessing.html\n",
      "Please also refer to the documentation for alternative solver options:\n",
      "    https://scikit-learn.org/stable/modules/linear_model.html#logistic-regression\n",
      "  n_iter_i = _check_optimize_result(\n"
     ]
    },
    {
     "name": "stdout",
     "output_type": "stream",
     "text": [
      "🏃 View run orderly-toad-890 at: http://127.0.0.1:8080/#/experiments/577994152132513070/runs/e77366e813f6454782c81f78e32d9630\n",
      "🧪 View experiment at: http://127.0.0.1:8080/#/experiments/577994152132513070\n"
     ]
    },
    {
     "name": "stderr",
     "output_type": "stream",
     "text": [
      "/home/kacper/Projects/Forecasting-NCAA-BB/venv/lib/python3.12/site-packages/sklearn/linear_model/_logistic.py:465: ConvergenceWarning: lbfgs failed to converge (status=1):\n",
      "STOP: TOTAL NO. OF ITERATIONS REACHED LIMIT.\n",
      "\n",
      "Increase the number of iterations (max_iter) or scale the data as shown in:\n",
      "    https://scikit-learn.org/stable/modules/preprocessing.html\n",
      "Please also refer to the documentation for alternative solver options:\n",
      "    https://scikit-learn.org/stable/modules/linear_model.html#logistic-regression\n",
      "  n_iter_i = _check_optimize_result(\n"
     ]
    }
   ],
   "source": [
    "with mlflow.start_run():\n",
    "    mlflow.set_tags({\"Gender\": \"Women\", \"Model\" : \"Logistic regression\", \"Hyperparams\" : \"Basic\"})\n",
    "    brier_score_cv = {}\n",
    "\n",
    "    for id_split, (train_idx, test_idx) in enumerate(tscv.split(X_featw)):\n",
    "        X_train, y_train = X_featw.iloc[train_idx], yw.iloc[train_idx]\n",
    "        X_test, y_test = X_featw.iloc[test_idx], yw.iloc[test_idx]\n",
    "\n",
    "        clf = LogisticRegression(random_state=42)\n",
    "        clf.fit(X_train, y_train)\n",
    "\n",
    "        pred_proba = clf.predict_proba(X_test)[:, 1]\n",
    "        brier_score_fold = brier_score_loss(y_test, pred_proba).item()\n",
    "        brier_score_cv[f\"Fold_{id_split}_Brier_Score\"] = brier_score_fold\n",
    "    brier_score_cv[\"Avg_Brier_Score\"] = np.mean(list(brier_score_cv.values()))\n",
    "    mlflow.log_metrics(brier_score_cv)"
   ]
  },
  {
   "cell_type": "markdown",
   "id": "f79ac2b9",
   "metadata": {},
   "source": [
    "### AdaBoost classifier"
   ]
  },
  {
   "cell_type": "markdown",
   "id": "f0b1a2e4",
   "metadata": {},
   "source": [
    "#### Men"
   ]
  },
  {
   "cell_type": "code",
   "execution_count": 10,
   "id": "8bd1d985",
   "metadata": {},
   "outputs": [
    {
     "name": "stdout",
     "output_type": "stream",
     "text": [
      "🏃 View run awesome-toad-420 at: http://127.0.0.1:8080/#/experiments/577994152132513070/runs/9e06be7499d74709bef3d8ae075a07cf\n",
      "🧪 View experiment at: http://127.0.0.1:8080/#/experiments/577994152132513070\n"
     ]
    }
   ],
   "source": [
    "with mlflow.start_run():\n",
    "    mlflow.set_tags({\"Gender\": \"Men\", \"Model\" : \"AdaBoost\", \"Hyperparams\" : \"Basic\"})\n",
    "    brier_score_cv = {}\n",
    "\n",
    "    for id_split, (train_idx, test_idx) in enumerate(tscv.split(X_featm)):\n",
    "        X_train, y_train = X_featm.iloc[train_idx], ym.iloc[train_idx]\n",
    "        X_test, y_test = X_featm.iloc[test_idx], ym.iloc[test_idx]\n",
    "\n",
    "        clf = AdaBoostClassifier(random_state=42)\n",
    "        clf.fit(X_train, y_train)\n",
    "        \n",
    "        pred_proba = clf.predict_proba(X_test)[:, 1]\n",
    "        brier_score_fold = brier_score_loss(y_test, pred_proba).item()\n",
    "        brier_score_cv[f\"Fold_{id_split}_Brier_Score\"] = brier_score_fold\n",
    "    brier_score_cv[\"Avg_Brier_Score\"] = np.mean(list(brier_score_cv.values()))\n",
    "    mlflow.log_metrics(brier_score_cv)"
   ]
  },
  {
   "cell_type": "markdown",
   "id": "8d0c4343",
   "metadata": {},
   "source": [
    "#### Women"
   ]
  },
  {
   "cell_type": "code",
   "execution_count": 11,
   "id": "163ecb76",
   "metadata": {},
   "outputs": [
    {
     "name": "stdout",
     "output_type": "stream",
     "text": [
      "🏃 View run learned-stoat-382 at: http://127.0.0.1:8080/#/experiments/577994152132513070/runs/bee2e9e4f06a400a89175410a9793a13\n",
      "🧪 View experiment at: http://127.0.0.1:8080/#/experiments/577994152132513070\n"
     ]
    }
   ],
   "source": [
    "with mlflow.start_run():\n",
    "    mlflow.set_tags({\"Gender\": \"Women\", \"Model\" : \"AdaBoost\", \"Hyperparams\" : \"Basic\"})\n",
    "    brier_score_cv = {}\n",
    "\n",
    "    for id_split, (train_idx, test_idx) in enumerate(tscv.split(X_featw)):\n",
    "        X_train, y_train = X_featw.iloc[train_idx], yw.iloc[train_idx]\n",
    "        X_test, y_test = X_featw.iloc[test_idx], yw.iloc[test_idx]\n",
    "\n",
    "        clf = AdaBoostClassifier(random_state=42)\n",
    "        clf.fit(X_train, y_train)\n",
    "\n",
    "        pred_proba = clf.predict_proba(X_test)[:, 1]\n",
    "        brier_score_fold = brier_score_loss(y_test, pred_proba).item()\n",
    "        brier_score_cv[f\"Fold_{id_split}_Brier_Score\"] = brier_score_fold\n",
    "    brier_score_cv[\"Avg_Brier_Score\"] = np.mean(list(brier_score_cv.values()))\n",
    "    mlflow.log_metrics(brier_score_cv)"
   ]
  },
  {
   "cell_type": "markdown",
   "id": "3511a9da",
   "metadata": {},
   "source": [
    "### KNN Classifiers"
   ]
  },
  {
   "cell_type": "markdown",
   "id": "778402ed",
   "metadata": {},
   "source": [
    "#### Men"
   ]
  },
  {
   "cell_type": "code",
   "execution_count": 13,
   "id": "d88c64f6",
   "metadata": {},
   "outputs": [
    {
     "name": "stdout",
     "output_type": "stream",
     "text": [
      "🏃 View run overjoyed-conch-607 at: http://127.0.0.1:8080/#/experiments/577994152132513070/runs/02bec2d858cd4ed888c8787f3a95c858\n",
      "🧪 View experiment at: http://127.0.0.1:8080/#/experiments/577994152132513070\n"
     ]
    }
   ],
   "source": [
    "with mlflow.start_run():\n",
    "    mlflow.set_tags({\"Gender\": \"Men\", \"Model\" : \"KNN\", \"Hyperparams\" : \"Basic\"})\n",
    "    brier_score_cv = {}\n",
    "\n",
    "    for id_split, (train_idx, test_idx) in enumerate(tscv.split(X_featm)):\n",
    "        X_train, y_train = X_featm.iloc[train_idx], ym.iloc[train_idx]\n",
    "        X_test, y_test = X_featm.iloc[test_idx], ym.iloc[test_idx]\n",
    "\n",
    "        clf = KNeighborsClassifier()\n",
    "        clf.fit(X_train, y_train)\n",
    "        \n",
    "        pred_proba = clf.predict_proba(X_test)[:, 1]\n",
    "        brier_score_fold = brier_score_loss(y_test, pred_proba).item()\n",
    "        brier_score_cv[f\"Fold_{id_split}_Brier_Score\"] = brier_score_fold\n",
    "    brier_score_cv[\"Avg_Brier_Score\"] = np.mean(list(brier_score_cv.values()))\n",
    "    mlflow.log_metrics(brier_score_cv)"
   ]
  },
  {
   "cell_type": "markdown",
   "id": "c78a7d0a",
   "metadata": {},
   "source": [
    "#### Women"
   ]
  },
  {
   "cell_type": "code",
   "execution_count": 14,
   "id": "ab8903f0",
   "metadata": {},
   "outputs": [
    {
     "name": "stdout",
     "output_type": "stream",
     "text": [
      "🏃 View run amazing-jay-427 at: http://127.0.0.1:8080/#/experiments/577994152132513070/runs/33be9681813b410cbc0b9a049f5bba25\n",
      "🧪 View experiment at: http://127.0.0.1:8080/#/experiments/577994152132513070\n"
     ]
    }
   ],
   "source": [
    "with mlflow.start_run():\n",
    "    mlflow.set_tags({\"Gender\": \"Women\", \"Model\" : \"KNN\", \"Hyperparams\" : \"Basic\"})\n",
    "    brier_score_cv = {}\n",
    "\n",
    "    for id_split, (train_idx, test_idx) in enumerate(tscv.split(X_featw)):\n",
    "        X_train, y_train = X_featw.iloc[train_idx], yw.iloc[train_idx]\n",
    "        X_test, y_test = X_featw.iloc[test_idx], yw.iloc[test_idx]\n",
    "\n",
    "        clf = KNeighborsClassifier()\n",
    "        clf.fit(X_train, y_train)\n",
    "\n",
    "        pred_proba = clf.predict_proba(X_test)[:, 1]\n",
    "        brier_score_fold = brier_score_loss(y_test, pred_proba).item()\n",
    "        brier_score_cv[f\"Fold_{id_split}_Brier_Score\"] = brier_score_fold\n",
    "    brier_score_cv[\"Avg_Brier_Score\"] = np.mean(list(brier_score_cv.values()))\n",
    "    mlflow.log_metrics(brier_score_cv)"
   ]
  },
  {
   "cell_type": "markdown",
   "id": "bbdd852e",
   "metadata": {},
   "source": [
    "### MLP classifier"
   ]
  },
  {
   "cell_type": "markdown",
   "id": "d3091344",
   "metadata": {},
   "source": [
    "#### Men"
   ]
  },
  {
   "cell_type": "code",
   "execution_count": 15,
   "id": "251ec318",
   "metadata": {},
   "outputs": [
    {
     "name": "stdout",
     "output_type": "stream",
     "text": [
      "🏃 View run skillful-ant-943 at: http://127.0.0.1:8080/#/experiments/577994152132513070/runs/49a16d3361c0480fb37713f37354a39e\n",
      "🧪 View experiment at: http://127.0.0.1:8080/#/experiments/577994152132513070\n"
     ]
    }
   ],
   "source": [
    "with mlflow.start_run():\n",
    "    mlflow.set_tags({\"Gender\": \"Men\", \"Model\" : \"MLP\", \"Hyperparams\" : \"Basic\"})\n",
    "    brier_score_cv = {}\n",
    "\n",
    "    for id_split, (train_idx, test_idx) in enumerate(tscv.split(X_featm)):\n",
    "        X_train, y_train = X_featm.iloc[train_idx], ym.iloc[train_idx]\n",
    "        X_test, y_test = X_featm.iloc[test_idx], ym.iloc[test_idx]\n",
    "\n",
    "        clf = MLPClassifier()\n",
    "        clf.fit(X_train, y_train)\n",
    "        \n",
    "        pred_proba = clf.predict_proba(X_test)[:, 1]\n",
    "        brier_score_fold = brier_score_loss(y_test, pred_proba).item()\n",
    "        brier_score_cv[f\"Fold_{id_split}_Brier_Score\"] = brier_score_fold\n",
    "    brier_score_cv[\"Avg_Brier_Score\"] = np.mean(list(brier_score_cv.values()))\n",
    "    mlflow.log_metrics(brier_score_cv)"
   ]
  },
  {
   "cell_type": "markdown",
   "id": "20b0006a",
   "metadata": {},
   "source": [
    "Women"
   ]
  },
  {
   "cell_type": "code",
   "execution_count": 16,
   "id": "bb386b9b",
   "metadata": {},
   "outputs": [
    {
     "name": "stdout",
     "output_type": "stream",
     "text": [
      "🏃 View run suave-sheep-392 at: http://127.0.0.1:8080/#/experiments/577994152132513070/runs/2fb98d2aedf6491ab326d451b7a1b9f4\n",
      "🧪 View experiment at: http://127.0.0.1:8080/#/experiments/577994152132513070\n"
     ]
    }
   ],
   "source": [
    "with mlflow.start_run():\n",
    "    mlflow.set_tags({\"Gender\": \"Women\", \"Model\" : \"MLP\", \"Hyperparams\" : \"Basic\"})\n",
    "    brier_score_cv = {}\n",
    "\n",
    "    for id_split, (train_idx, test_idx) in enumerate(tscv.split(X_featw)):\n",
    "        X_train, y_train = X_featw.iloc[train_idx], yw.iloc[train_idx]\n",
    "        X_test, y_test = X_featw.iloc[test_idx], yw.iloc[test_idx]\n",
    "\n",
    "        clf = MLPClassifier()\n",
    "        clf.fit(X_train, y_train)\n",
    "\n",
    "        pred_proba = clf.predict_proba(X_test)[:, 1]\n",
    "        brier_score_fold = brier_score_loss(y_test, pred_proba).item()\n",
    "        brier_score_cv[f\"Fold_{id_split}_Brier_Score\"] = brier_score_fold\n",
    "    brier_score_cv[\"Avg_Brier_Score\"] = np.mean(list(brier_score_cv.values()))\n",
    "    mlflow.log_metrics(brier_score_cv)"
   ]
  },
  {
   "cell_type": "markdown",
   "id": "20015a53",
   "metadata": {},
   "source": [
    "### Xgboost classifier"
   ]
  },
  {
   "cell_type": "markdown",
   "id": "461d7120",
   "metadata": {},
   "source": [
    "#### Men"
   ]
  },
  {
   "cell_type": "code",
   "execution_count": 3,
   "id": "2ca8288c",
   "metadata": {},
   "outputs": [
    {
     "name": "stdout",
     "output_type": "stream",
     "text": [
      "🏃 View run fortunate-hawk-849 at: http://127.0.0.1:8080/#/experiments/577994152132513070/runs/ecac6caf4127476f8cfde20ff3661507\n",
      "🧪 View experiment at: http://127.0.0.1:8080/#/experiments/577994152132513070\n"
     ]
    }
   ],
   "source": [
    "with mlflow.start_run():\n",
    "    mlflow.set_tags({\"Gender\": \"Men\", \"Model\" : \"Xgboost\", \"Hyperparams\" : \"Basic\"})\n",
    "    brier_score_cv = {}\n",
    "\n",
    "    for id_split, (train_idx, test_idx) in enumerate(tscv.split(X_featm)):\n",
    "        X_train, y_train = X_featm.iloc[train_idx], ym.iloc[train_idx]\n",
    "        X_test, y_test = X_featm.iloc[test_idx], ym.iloc[test_idx]\n",
    "\n",
    "        clf = XGBClassifier()\n",
    "        clf.fit(X_train, y_train)\n",
    "        \n",
    "        pred_proba = clf.predict_proba(X_test)[:, 1]\n",
    "        brier_score_fold = brier_score_loss(y_test, pred_proba).item()\n",
    "        brier_score_cv[f\"Fold_{id_split}_Brier_Score\"] = brier_score_fold\n",
    "    brier_score_cv[\"Avg_Brier_Score\"] = np.mean(list(brier_score_cv.values()))\n",
    "    mlflow.log_metrics(brier_score_cv)"
   ]
  },
  {
   "cell_type": "markdown",
   "id": "2bfa00f5",
   "metadata": {},
   "source": [
    "#### Women"
   ]
  },
  {
   "cell_type": "code",
   "execution_count": 4,
   "id": "a42c1ce5",
   "metadata": {},
   "outputs": [
    {
     "name": "stdout",
     "output_type": "stream",
     "text": [
      "🏃 View run skillful-pug-201 at: http://127.0.0.1:8080/#/experiments/577994152132513070/runs/1fd2f5e78959438a97a63739bb4d9f15\n",
      "🧪 View experiment at: http://127.0.0.1:8080/#/experiments/577994152132513070\n"
     ]
    }
   ],
   "source": [
    "with mlflow.start_run():\n",
    "    mlflow.set_tags({\"Gender\": \"Women\", \"Model\" : \"Xgboost\", \"Hyperparams\" : \"Basic\"})\n",
    "    brier_score_cv = {}\n",
    "\n",
    "    for id_split, (train_idx, test_idx) in enumerate(tscv.split(X_featw)):\n",
    "        X_train, y_train = X_featw.iloc[train_idx], yw.iloc[train_idx]\n",
    "        X_test, y_test = X_featw.iloc[test_idx], yw.iloc[test_idx]\n",
    "\n",
    "        clf = XGBClassifier()\n",
    "        clf.fit(X_train, y_train)\n",
    "\n",
    "        pred_proba = clf.predict_proba(X_test)[:, 1]\n",
    "        brier_score_fold = brier_score_loss(y_test, pred_proba).item()\n",
    "        brier_score_cv[f\"Fold_{id_split}_Brier_Score\"] = brier_score_fold\n",
    "    brier_score_cv[\"Avg_Brier_Score\"] = np.mean(list(brier_score_cv.values()))\n",
    "    mlflow.log_metrics(brier_score_cv)"
   ]
  },
  {
   "cell_type": "markdown",
   "id": "d259f79a",
   "metadata": {},
   "source": [
    "### Custom Model (meta learner)"
   ]
  },
  {
   "cell_type": "markdown",
   "id": "6b6a76b3",
   "metadata": {},
   "source": [
    "#### Implement model"
   ]
  },
  {
   "cell_type": "code",
   "execution_count": 21,
   "id": "5aebb871",
   "metadata": {},
   "outputs": [],
   "source": [
    "class MetaModel(BaseEstimator, ClassifierMixin):\n",
    "    def __init__(self):\n",
    "        super().__init__()\n",
    "        self.model1 = XGBClassifier()\n",
    "        self.model2 = AdaBoostClassifier(random_state=42)\n",
    "        self.model3 = RandomForestClassifier(random_state=42)\n",
    "        self.meta_model = LogisticRegression(random_state=42)\n",
    "\n",
    "    def fit(self, X, y):\n",
    "        if X.shape[0] != y.shape[0]:\n",
    "            raise ValueError(f\"Unequal shapes: {X.shape[0]} != {y.shape[0]}\")\n",
    "        \n",
    "        self.model1.fit(X, y)\n",
    "        self.model2.fit(X, y)\n",
    "        self.model3.fit(X, y)\n",
    "\n",
    "        X_meta = np.concatenate([self.model1.predict_proba(X), self.model2.predict_proba(X), self.model3.predict_proba(X)], axis=1)\n",
    "        self.meta_model = self.meta_model.fit(X_meta, y)\n",
    "        return self\n",
    "    \n",
    "    def predict(self, X):\n",
    "        X_meta = np.concatenate([self.model1.predict_proba(X), self.model2.predict_proba(X), self.model3.predict_proba(X)], axis=1)\n",
    "        return self.meta_model.predict(X_meta)\n",
    "\n",
    "    def predict_proba(self, X):\n",
    "        X_meta = np.concatenate([self.model1.predict_proba(X), self.model2.predict_proba(X), self.model3.predict_proba(X)], axis=1)\n",
    "        return self.meta_model.predict_proba(X_meta)"
   ]
  },
  {
   "cell_type": "markdown",
   "id": "2fa7f7c4",
   "metadata": {},
   "source": [
    "#### Men"
   ]
  },
  {
   "cell_type": "code",
   "execution_count": 24,
   "id": "61393bcf",
   "metadata": {},
   "outputs": [
    {
     "name": "stdout",
     "output_type": "stream",
     "text": [
      "🏃 View run awesome-gnu-493 at: http://127.0.0.1:8080/#/experiments/577994152132513070/runs/57742eed3a5e4590bbb6a8d274d35de6\n",
      "🧪 View experiment at: http://127.0.0.1:8080/#/experiments/577994152132513070\n"
     ]
    }
   ],
   "source": [
    "with mlflow.start_run():\n",
    "    mlflow.set_tags({\"Gender\": \"Men\", \"Model\" : \"CustomModel\", \"Hyperparams\" : \"Basic\"})\n",
    "    brier_score_cv = {}\n",
    "\n",
    "    for id_split, (train_idx, test_idx) in enumerate(tscv.split(X_featm)):\n",
    "        X_train, y_train = X_featm.iloc[train_idx], ym.iloc[train_idx]\n",
    "        X_test, y_test = X_featm.iloc[test_idx], ym.iloc[test_idx]\n",
    "\n",
    "        clf = MetaModel()\n",
    "        clf.fit(X_train, y_train)\n",
    "        \n",
    "        pred_proba = clf.predict_proba(X_test)[:, 1]\n",
    "        brier_score_fold = brier_score_loss(y_test, pred_proba).item()\n",
    "        brier_score_cv[f\"Fold_{id_split}_Brier_Score\"] = brier_score_fold\n",
    "    brier_score_cv[\"Avg_Brier_Score\"] = np.mean(list(brier_score_cv.values()))\n",
    "    mlflow.log_metrics(brier_score_cv)"
   ]
  },
  {
   "cell_type": "markdown",
   "id": "ef8f8979",
   "metadata": {},
   "source": [
    "#### Women"
   ]
  },
  {
   "cell_type": "code",
   "execution_count": 25,
   "id": "a4c47998",
   "metadata": {},
   "outputs": [
    {
     "name": "stdout",
     "output_type": "stream",
     "text": [
      "🏃 View run bemused-turtle-522 at: http://127.0.0.1:8080/#/experiments/577994152132513070/runs/83e9dd65ab674f48b2d79d3f921acd0d\n",
      "🧪 View experiment at: http://127.0.0.1:8080/#/experiments/577994152132513070\n"
     ]
    }
   ],
   "source": [
    "with mlflow.start_run():\n",
    "    mlflow.set_tags({\"Gender\": \"Women\", \"Model\" : \"CustomModel\", \"Hyperparams\" : \"Basic\"})\n",
    "    brier_score_cv = {}\n",
    "\n",
    "    for id_split, (train_idx, test_idx) in enumerate(tscv.split(X_featw)):\n",
    "        X_train, y_train = X_featw.iloc[train_idx], yw.iloc[train_idx]\n",
    "        X_test, y_test = X_featw.iloc[test_idx], yw.iloc[test_idx]\n",
    "\n",
    "        clf = MetaModel()\n",
    "        clf.fit(X_train, y_train)\n",
    "\n",
    "        pred_proba = clf.predict_proba(X_test)[:, 1]\n",
    "        brier_score_fold = brier_score_loss(y_test, pred_proba).item()\n",
    "        brier_score_cv[f\"Fold_{id_split}_Brier_Score\"] = brier_score_fold\n",
    "    brier_score_cv[\"Avg_Brier_Score\"] = np.mean(list(brier_score_cv.values()))\n",
    "    mlflow.log_metrics(brier_score_cv)"
   ]
  },
  {
   "cell_type": "markdown",
   "id": "caee8a86",
   "metadata": {},
   "source": [
    "### Stacking classifier"
   ]
  },
  {
   "cell_type": "markdown",
   "id": "65d33230",
   "metadata": {},
   "source": [
    "#### Men"
   ]
  },
  {
   "cell_type": "code",
   "execution_count": 27,
   "id": "fe53dce4",
   "metadata": {},
   "outputs": [
    {
     "name": "stdout",
     "output_type": "stream",
     "text": [
      "🏃 View run placid-gnat-679 at: http://127.0.0.1:8080/#/experiments/577994152132513070/runs/3ce43e84c43d42cc9a10786e6342c176\n",
      "🧪 View experiment at: http://127.0.0.1:8080/#/experiments/577994152132513070\n"
     ]
    }
   ],
   "source": [
    "with mlflow.start_run():\n",
    "    mlflow.set_tags({\"Gender\": \"Men\", \"Model\" : \"Stacking\", \"Hyperparams\" : \"Basic\"})\n",
    "    brier_score_cv = {}\n",
    "\n",
    "    for id_split, (train_idx, test_idx) in enumerate(tscv.split(X_featm)):\n",
    "        X_train, y_train = X_featm.iloc[train_idx], ym.iloc[train_idx]\n",
    "        X_test, y_test = X_featm.iloc[test_idx], ym.iloc[test_idx]\n",
    "\n",
    "        base_learners = [\n",
    "            ('xgb', XGBClassifier()),\n",
    "            ('ada', AdaBoostClassifier(random_state=42)),\n",
    "            ('rf', RandomForestClassifier(random_state=42))\n",
    "        ]\n",
    "\n",
    "        meta_model = LogisticRegression(random_state=42)\n",
    "        \n",
    "        clf = StackingClassifier(\n",
    "            estimators=base_learners,\n",
    "            final_estimator=meta_model,\n",
    "            cv=5,\n",
    "            passthrough=False\n",
    "        )\n",
    "        clf.fit(X_train, y_train)\n",
    "        \n",
    "        pred_proba = clf.predict_proba(X_test)[:, 1]\n",
    "        brier_score_fold = brier_score_loss(y_test, pred_proba).item()\n",
    "        brier_score_cv[f\"Fold_{id_split}_Brier_Score\"] = brier_score_fold\n",
    "    brier_score_cv[\"Avg_Brier_Score\"] = np.mean(list(brier_score_cv.values()))\n",
    "    mlflow.log_metrics(brier_score_cv)"
   ]
  },
  {
   "cell_type": "markdown",
   "id": "eb045867",
   "metadata": {},
   "source": [
    "#### Women"
   ]
  },
  {
   "cell_type": "code",
   "execution_count": 28,
   "id": "8e068112",
   "metadata": {},
   "outputs": [
    {
     "name": "stdout",
     "output_type": "stream",
     "text": [
      "🏃 View run skillful-ox-216 at: http://127.0.0.1:8080/#/experiments/577994152132513070/runs/c3c0537a9161420c8e9c69d58f5ef4eb\n",
      "🧪 View experiment at: http://127.0.0.1:8080/#/experiments/577994152132513070\n"
     ]
    }
   ],
   "source": [
    "with mlflow.start_run():\n",
    "    mlflow.set_tags({\"Gender\": \"Women\", \"Model\" : \"Stacking\", \"Hyperparams\" : \"Basic\"})\n",
    "    brier_score_cv = {}\n",
    "\n",
    "    for id_split, (train_idx, test_idx) in enumerate(tscv.split(X_featw)):\n",
    "        X_train, y_train = X_featw.iloc[train_idx], yw.iloc[train_idx]\n",
    "        X_test, y_test = X_featw.iloc[test_idx], yw.iloc[test_idx]\n",
    "\n",
    "        base_learners = [\n",
    "            ('xgb', XGBClassifier()),\n",
    "            ('ada', AdaBoostClassifier(random_state=42)),\n",
    "            ('rf', RandomForestClassifier(random_state=42))\n",
    "        ]\n",
    "\n",
    "        meta_model = LogisticRegression(random_state=42)\n",
    "        \n",
    "        clf = StackingClassifier(\n",
    "            estimators=base_learners,\n",
    "            final_estimator=meta_model,\n",
    "            cv=5,\n",
    "            passthrough=False\n",
    "        )\n",
    "        clf.fit(X_train, y_train)\n",
    "\n",
    "        pred_proba = clf.predict_proba(X_test)[:, 1]\n",
    "        brier_score_fold = brier_score_loss(y_test, pred_proba).item()\n",
    "        brier_score_cv[f\"Fold_{id_split}_Brier_Score\"] = brier_score_fold\n",
    "    brier_score_cv[\"Avg_Brier_Score\"] = np.mean(list(brier_score_cv.values()))\n",
    "    mlflow.log_metrics(brier_score_cv)"
   ]
  }
 ],
 "metadata": {
  "kernelspec": {
   "display_name": "venv",
   "language": "python",
   "name": "python3"
  },
  "language_info": {
   "codemirror_mode": {
    "name": "ipython",
    "version": 3
   },
   "file_extension": ".py",
   "mimetype": "text/x-python",
   "name": "python",
   "nbconvert_exporter": "python",
   "pygments_lexer": "ipython3",
   "version": "3.12.3"
  }
 },
 "nbformat": 4,
 "nbformat_minor": 5
}
