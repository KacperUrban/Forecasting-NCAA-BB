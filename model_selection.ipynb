{
 "cells": [
  {
   "cell_type": "markdown",
   "id": "ca7cb152",
   "metadata": {},
   "source": [
    "In this notebook I will focus on model selection. I will test few or more models and I will choose the best to hyperaparameters tuning. So far I tested three models. Below I will present theirs brier score (smaller is better). I test all models on 10-fold time series cross validation.\n",
    "\n",
    "For men dataset:\n",
    "1. Logistic regression: 0.20055\n",
    "2. Random forest: 0.20602\n",
    "3. Decision tree: 0.40546\n",
    "\n",
    "For women dataset:\n",
    "1. Logistic regression: 0.23619\n",
    "2. Random forest: 0.56513\n",
    "3. Decision tree: 0.70500"
   ]
  },
  {
   "cell_type": "markdown",
   "id": "09ef7085",
   "metadata": {},
   "source": [
    "## Load libraries"
   ]
  },
  {
   "cell_type": "code",
   "execution_count": 18,
   "id": "02ec2f5e",
   "metadata": {},
   "outputs": [
    {
     "data": {
      "text/plain": [
       "<Experiment: artifact_location='mlflow-artifacts:/577994152132513070', creation_time=1747996421002, experiment_id='577994152132513070', last_update_time=1747996421002, lifecycle_stage='active', name='NCAA Classifiers', tags={}>"
      ]
     },
     "execution_count": 18,
     "metadata": {},
     "output_type": "execute_result"
    }
   ],
   "source": [
    "import fireducks.pandas as pd\n",
    "import numpy as np\n",
    "from sklearn.metrics import brier_score_loss\n",
    "from sklearn.linear_model import LogisticRegression\n",
    "from sklearn.ensemble import RandomForestClassifier\n",
    "from sklearn.tree import DecisionTreeClassifier\n",
    "from sklearn.model_selection import TimeSeriesSplit\n",
    "from custom_utils import transform_data, enrich_data\n",
    "import mlflow\n",
    "\n",
    "mlflow.set_tracking_uri(uri=\"http://127.0.0.1:8080\")\n",
    "mlflow.set_experiment(\"NCAA Classifiers\")"
   ]
  },
  {
   "cell_type": "markdown",
   "id": "953a7384",
   "metadata": {},
   "source": [
    "## Load and prepare data"
   ]
  },
  {
   "cell_type": "code",
   "execution_count": 6,
   "id": "1507f152",
   "metadata": {},
   "outputs": [
    {
     "name": "stderr",
     "output_type": "stream",
     "text": [
      "/home/kacper/Projects/Forecasting-NCAA-BB/venv/lib/python3.12/site-packages/sklearn/preprocessing/_label.py:110: DataConversionWarning: A column-vector y was passed when a 1d array was expected. Please change the shape of y to (n_samples, ), for example using ravel().\n",
      "  y = column_or_1d(y, warn=True)\n",
      "/home/kacper/Projects/Forecasting-NCAA-BB/venv/lib/python3.12/site-packages/sklearn/preprocessing/_label.py:129: DataConversionWarning: A column-vector y was passed when a 1d array was expected. Please change the shape of y to (n_samples, ), for example using ravel().\n",
      "  y = column_or_1d(y, dtype=self.classes_.dtype, warn=True)\n"
     ]
    }
   ],
   "source": [
    "wregularseason = pd.read_csv(\"data/WRegularSeasonCompactResults.csv\")\n",
    "wtourneyseason = pd.read_csv(\"data/WNCAATourneyCompactResults.csv\")\n",
    "\n",
    "mregularseason = pd.read_csv(\"data/MRegularSeasonCompactResults.csv\")\n",
    "mtourneyseason = pd.read_csv(\"data/MNCAATourneyCompactResults.csv\")\n",
    "\n",
    "mseason = pd.read_csv(\"data/MSeasons.csv\")\n",
    "wseason = pd.read_csv(\"data/WSeasons.csv\")\n",
    "\n",
    "wdata = pd.concat([wregularseason, wtourneyseason], axis=0)\n",
    "wdata = wdata.loc[wdata.Season > 2015].reset_index(drop=True)\n",
    "\n",
    "mdata = pd.concat([mregularseason, mtourneyseason], axis=0).reset_index(drop=True)\n",
    "mdata = mdata.loc[mdata.Season > 2015].reset_index(drop=True)\n",
    "\n",
    "wprep = transform_data(wdata)\n",
    "mprep = transform_data(mdata)\n",
    "\n",
    "mprep_enh = enrich_data(mprep, \"M\")\n",
    "wprep_enh = enrich_data(wprep, \"W\")\n",
    "\n",
    "X_featm = mprep_enh.drop([\"Result\", \"DayNum\"], axis=1)\n",
    "ym = mprep_enh.Result\n",
    "\n",
    "X_featw = wprep_enh.drop([\"Result\", \"DayNum\"], axis=1)\n",
    "yw = wprep_enh.Result\n",
    "\n",
    "tscv = TimeSeriesSplit(n_splits=10)"
   ]
  },
  {
   "cell_type": "markdown",
   "id": "78b93e12",
   "metadata": {},
   "source": [
    "## Model selection"
   ]
  },
  {
   "cell_type": "markdown",
   "id": "876a85b2",
   "metadata": {},
   "source": [
    "### Decision tree"
   ]
  },
  {
   "cell_type": "markdown",
   "id": "c4cb986e",
   "metadata": {},
   "source": [
    "#### Men"
   ]
  },
  {
   "cell_type": "code",
   "execution_count": 15,
   "id": "a166665d",
   "metadata": {},
   "outputs": [
    {
     "name": "stdout",
     "output_type": "stream",
     "text": [
      "🏃 View run painted-auk-659 at: http://127.0.0.1:8080/#/experiments/577994152132513070/runs/dc13db4370f14aa2969063fd5f7cb8b3\n",
      "🧪 View experiment at: http://127.0.0.1:8080/#/experiments/577994152132513070\n"
     ]
    }
   ],
   "source": [
    "with mlflow.start_run():\n",
    "    mlflow.set_tags({\"Gender\": \"Men\", \"Model\" : \"Decision tree\", \"Hyperparams\" : \"Basic\"})\n",
    "    brier_score_cv = {}\n",
    "\n",
    "    for id_split, (train_idx, test_idx) in enumerate(tscv.split(X_featm)):\n",
    "        X_train, y_train = X_featm.iloc[train_idx], ym.iloc[train_idx]\n",
    "        X_test, y_test = X_featm.iloc[test_idx], ym.iloc[test_idx]\n",
    "\n",
    "        dt_clf = DecisionTreeClassifier(random_state=42)\n",
    "        dt_clf.fit(X_train, y_train)\n",
    "\n",
    "        pred_proba = dt_clf.predict_proba(X_test)[:, 1]\n",
    "        brier_score_fold = brier_score_loss(y_test, pred_proba).item()\n",
    "        brier_score_cv[f\"Fold_{id_split}_Brier_Score\"] = brier_score_fold\n",
    "    brier_score_cv[\"Avg_Brier_Score\"] = np.mean(list(brier_score_cv.values()))\n",
    "    mlflow.log_metrics(brier_score_cv)"
   ]
  },
  {
   "cell_type": "markdown",
   "id": "d478908a",
   "metadata": {},
   "source": [
    "#### Women"
   ]
  },
  {
   "cell_type": "code",
   "execution_count": 22,
   "id": "16ba073c",
   "metadata": {},
   "outputs": [
    {
     "name": "stdout",
     "output_type": "stream",
     "text": [
      "🏃 View run rumbling-conch-863 at: http://127.0.0.1:8080/#/experiments/577994152132513070/runs/a33e6985a49c4415b6d587f47430314a\n",
      "🧪 View experiment at: http://127.0.0.1:8080/#/experiments/577994152132513070\n"
     ]
    }
   ],
   "source": [
    "with mlflow.start_run():\n",
    "    mlflow.set_tags({\"Gender\": \"Women\", \"Model\" : \"Decision tree\", \"Hyperparams\" : \"Basic\"})\n",
    "    brier_score_cv = {}\n",
    "\n",
    "    for id_split, (train_idx, test_idx) in enumerate(tscv.split(X_featw)):\n",
    "        X_train, y_train = X_featw.iloc[train_idx], yw.iloc[train_idx]\n",
    "        X_test, y_test = X_featw.iloc[test_idx], yw.iloc[test_idx]\n",
    "\n",
    "        dt_clf = DecisionTreeClassifier(random_state=42)\n",
    "        dt_clf.fit(X_train, y_train)\n",
    "\n",
    "        pred_proba = dt_clf.predict_proba(X_test)[:, 1]\n",
    "        brier_score_fold = brier_score_loss(y_test, pred_proba).item()\n",
    "        brier_score_cv[f\"Fold_{id_split}_Brier_Score\"] = brier_score_fold\n",
    "    brier_score_cv[\"Avg_Brier_Score\"] = np.mean(list(brier_score_cv.values()))\n",
    "    mlflow.log_metrics(brier_score_cv)"
   ]
  },
  {
   "cell_type": "markdown",
   "id": "ff9028fc",
   "metadata": {},
   "source": [
    "### Random forest"
   ]
  },
  {
   "cell_type": "markdown",
   "id": "87a986f9",
   "metadata": {},
   "source": [
    "#### Men"
   ]
  },
  {
   "cell_type": "code",
   "execution_count": 16,
   "id": "fc0d6f02",
   "metadata": {},
   "outputs": [
    {
     "name": "stdout",
     "output_type": "stream",
     "text": [
      "🏃 View run spiffy-skunk-267 at: http://127.0.0.1:8080/#/experiments/577994152132513070/runs/fdc7363b659247c2b6263a348746bd9f\n",
      "🧪 View experiment at: http://127.0.0.1:8080/#/experiments/577994152132513070\n"
     ]
    }
   ],
   "source": [
    "with mlflow.start_run():\n",
    "    mlflow.set_tags({\"Gender\": \"Men\", \"Model\" : \"Random forest\", \"Hyperparams\" : \"Basic\"})\n",
    "    brier_score_cv = {}\n",
    "\n",
    "    for id_split, (train_idx, test_idx) in enumerate(tscv.split(X_featm)):\n",
    "        X_train, y_train = X_featm.iloc[train_idx], ym.iloc[train_idx]\n",
    "        X_test, y_test = X_featm.iloc[test_idx], ym.iloc[test_idx]\n",
    "\n",
    "        dt_clf = RandomForestClassifier(random_state=42)\n",
    "        dt_clf.fit(X_train, y_train)\n",
    "\n",
    "        pred_proba = dt_clf.predict_proba(X_test)[:, 1]\n",
    "        brier_score_fold = brier_score_loss(y_test, pred_proba).item()\n",
    "        brier_score_cv[f\"Fold_{id_split}_Brier_Score\"] = brier_score_fold\n",
    "    brier_score_cv[\"Avg_Brier_Score\"] = np.mean(list(brier_score_cv.values()))\n",
    "    mlflow.log_metrics(brier_score_cv)"
   ]
  },
  {
   "cell_type": "markdown",
   "id": "4dd0f5a8",
   "metadata": {},
   "source": [
    "#### Women"
   ]
  },
  {
   "cell_type": "code",
   "execution_count": 23,
   "id": "e0074066",
   "metadata": {},
   "outputs": [
    {
     "name": "stdout",
     "output_type": "stream",
     "text": [
      "🏃 View run luminous-hen-922 at: http://127.0.0.1:8080/#/experiments/577994152132513070/runs/fdb0716291894185a3d3500cc1bc7cd1\n",
      "🧪 View experiment at: http://127.0.0.1:8080/#/experiments/577994152132513070\n"
     ]
    }
   ],
   "source": [
    "with mlflow.start_run():\n",
    "    mlflow.set_tags({\"Gender\": \"Women\", \"Model\" : \"Random forest\", \"Hyperparams\" : \"Basic\"})\n",
    "    brier_score_cv = {}\n",
    "\n",
    "    for id_split, (train_idx, test_idx) in enumerate(tscv.split(X_featw)):\n",
    "        X_train, y_train = X_featw.iloc[train_idx], yw.iloc[train_idx]\n",
    "        X_test, y_test = X_featw.iloc[test_idx], yw.iloc[test_idx]\n",
    "\n",
    "        dt_clf = RandomForestClassifier(random_state=42)\n",
    "        dt_clf.fit(X_train, y_train)\n",
    "\n",
    "        pred_proba = dt_clf.predict_proba(X_test)[:, 1]\n",
    "        brier_score_fold = brier_score_loss(y_test, pred_proba).item()\n",
    "        brier_score_cv[f\"Fold_{id_split}_Brier_Score\"] = brier_score_fold\n",
    "    brier_score_cv[\"Avg_Brier_Score\"] = np.mean(list(brier_score_cv.values()))\n",
    "    mlflow.log_metrics(brier_score_cv)"
   ]
  },
  {
   "cell_type": "markdown",
   "id": "fa5b416d",
   "metadata": {},
   "source": [
    "### Logistic Regression"
   ]
  },
  {
   "cell_type": "markdown",
   "id": "b1c32d10",
   "metadata": {},
   "source": [
    "#### Men"
   ]
  },
  {
   "cell_type": "code",
   "execution_count": null,
   "id": "eab40939",
   "metadata": {},
   "outputs": [],
   "source": [
    "with mlflow.start_run():\n",
    "    mlflow.set_tags({\"Gender\": \"Men\", \"Model\" : \"Logistic regression\", \"Hyperparams\" : \"Basic\"})\n",
    "    brier_score_cv = {}\n",
    "\n",
    "    for id_split, (train_idx, test_idx) in enumerate(tscv.split(X_featm)):\n",
    "        X_train, y_train = X_featm.iloc[train_idx], ym.iloc[train_idx]\n",
    "        X_test, y_test = X_featm.iloc[test_idx], ym.iloc[test_idx]\n",
    "\n",
    "        dt_clf = LogisticRegression(random_state=42)\n",
    "        dt_clf.fit(X_train, y_train)\n",
    "\n",
    "        pred_proba = dt_clf.predict_proba(X_test)[:, 1]\n",
    "        brier_score_fold = brier_score_loss(y_test, pred_proba).item()\n",
    "        brier_score_cv[f\"Fold_{id_split}_Brier_Score\"] = brier_score_fold\n",
    "    brier_score_cv[\"Avg_Brier_Score\"] = np.mean(list(brier_score_cv.values()))\n",
    "    mlflow.log_metrics(brier_score_cv)"
   ]
  },
  {
   "cell_type": "markdown",
   "id": "804f111f",
   "metadata": {},
   "source": [
    "#### Women"
   ]
  },
  {
   "cell_type": "code",
   "execution_count": null,
   "id": "b122cb4f",
   "metadata": {},
   "outputs": [],
   "source": [
    "with mlflow.start_run():\n",
    "    mlflow.set_tags({\"Gender\": \"Women\", \"Model\" : \"Logistic regression\", \"Hyperparams\" : \"Basic\"})\n",
    "    brier_score_cv = {}\n",
    "\n",
    "    for id_split, (train_idx, test_idx) in enumerate(tscv.split(X_featw)):\n",
    "        X_train, y_train = X_featw.iloc[train_idx], yw.iloc[train_idx]\n",
    "        X_test, y_test = X_featw.iloc[test_idx], yw.iloc[test_idx]\n",
    "\n",
    "        dt_clf = LogisticRegression(random_state=42)\n",
    "        dt_clf.fit(X_train, y_train)\n",
    "\n",
    "        pred_proba = dt_clf.predict_proba(X_test)[:, 1]\n",
    "        brier_score_fold = brier_score_loss(y_test, pred_proba).item()\n",
    "        brier_score_cv[f\"Fold_{id_split}_Brier_Score\"] = brier_score_fold\n",
    "    brier_score_cv[\"Avg_Brier_Score\"] = np.mean(list(brier_score_cv.values()))\n",
    "    mlflow.log_metrics(brier_score_cv)"
   ]
  }
 ],
 "metadata": {
  "kernelspec": {
   "display_name": "venv",
   "language": "python",
   "name": "python3"
  },
  "language_info": {
   "codemirror_mode": {
    "name": "ipython",
    "version": 3
   },
   "file_extension": ".py",
   "mimetype": "text/x-python",
   "name": "python",
   "nbconvert_exporter": "python",
   "pygments_lexer": "ipython3",
   "version": "3.12.3"
  }
 },
 "nbformat": 4,
 "nbformat_minor": 5
}
